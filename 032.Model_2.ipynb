{
 "cells": [
  {
   "cell_type": "markdown",
   "metadata": {},
   "source": [
    "# Model2\n",
    "This notebook is a deeper iteration of similar architecture from model 1 set up for the purpose of running on AWS."
   ]
  },
  {
   "cell_type": "code",
   "execution_count": 1,
   "metadata": {},
   "outputs": [],
   "source": [
    "import numpy as np\n",
    "\n",
    "import matplotlib.pyplot as plt\n",
    "import matplotlib.image as mpimg\n",
    "\n",
    "plt.style.use('fivethirtyeight')\n",
    "%matplotlib inline\n",
    "\n",
    "from tensorflow.keras.applications import NASNetLarge \n",
    "from tensorflow.keras.applications.nasnet import preprocess_input\n",
    "from tensorflow.keras.preprocessing.image import load_img, img_to_array\n",
    "from tensorflow.keras.preprocessing.text import Tokenizer\n",
    "from tensorflow.keras.preprocessing.sequence import pad_sequences\n",
    "from tensorflow.keras.utils import to_categorical, plot_model\n",
    "from tensorflow.keras.models import Model, model_from_json, load_model\n",
    "from tensorflow.keras.layers import Input, Dropout, Dense, Embedding, LSTM, add\n",
    "from tensorflow.keras.callbacks import EarlyStopping, ModelCheckpoint\n",
    "from sklearn.model_selection import train_test_split\n",
    "\n",
    "from nltk.translate.bleu_score import corpus_bleu\n",
    "\n",
    "import pickle\n",
    "import os\n",
    "from timeit import default_timer as timer\n",
    "\n",
    "import string\n",
    "import re\n",
    "import gc"
   ]
  },
  {
   "cell_type": "code",
   "execution_count": 2,
   "metadata": {},
   "outputs": [],
   "source": [
    "# remove unnecessary variables\n",
    "def clean_up(vars_):\n",
    "    for var in vars_:\n",
    "        del var \n",
    "    print(gc.collect())"
   ]
  },
  {
   "cell_type": "code",
   "execution_count": 3,
   "metadata": {},
   "outputs": [],
   "source": [
    "flicker_img_dir = 'IMAGES/Flicker/Flicker8k_Dataset'\n",
    "art_dir = 'IMAGES\\paintings'"
   ]
  },
  {
   "cell_type": "markdown",
   "metadata": {},
   "source": [
    "## Functions\n",
    "---\n",
    "Setting up necessary functions and classes"
   ]
  },
  {
   "cell_type": "code",
   "execution_count": 20,
   "metadata": {},
   "outputs": [],
   "source": [
    "def get_keys(dict_):\n",
    "    ''' \n",
    "    Helper to return a list of keys \n",
    "    given dictionary\n",
    "    '''\n",
    "    return list(dict_.keys())\n",
    "\n",
    "def get_vals(dict_):\n",
    "    ''' \n",
    "    Helper to return a list of values \n",
    "    given dictionary\n",
    "    '''\n",
    "    return list(dict_.values())\n",
    "    \n",
    "def get_features(features_dict, img_ind):\n",
    "    ''' \n",
    "    Helper to return feature values \n",
    "    given feature dictionary and index\n",
    "    '''\n",
    "    if isinstance(img_ind, list):\n",
    "        return [features_dict[x][0] for x in img_ind]\n",
    "    elif isinstance(img_ind, str):\n",
    "        return features_dict[img_ind][0]\n",
    "    else:\n",
    "        print('img_ind must be a list or string type')\n",
    "        return None\n",
    "    \n",
    "def get_text(dictionary, img_ind):\n",
    "    ''' \n",
    "    Helper to return a list of description \n",
    "    given an index \n",
    "    '''\n",
    "    return dictionary[img_ind]    "
   ]
  },
  {
   "cell_type": "code",
   "execution_count": 24,
   "metadata": {},
   "outputs": [],
   "source": [
    "class sequence_generator:\n",
    "    def __init__(self, dictionary, features):\n",
    "        ''' INPUT: a dictionary of descriptions and features '''\n",
    "        self.dictionary = dictionary\n",
    "        self.features = features\n",
    "        self.img_index = get_keys(self.dictionary)\n",
    "        self.texts = get_vals(self.dictionary)\n",
    "\n",
    "    def update_selection(self, list_):\n",
    "        ''' \n",
    "        INPUT: select list of image indices\n",
    "        Create selector, and subsets (select_dictionary, select_img_inds, select_texts)\n",
    "        '''\n",
    "        self.selector = list_\n",
    "        self.select_dictionary = {k: v for k, v in self.dictionary.items() if (k in list_) & (k in self.features)}\n",
    "        self.select_img_inds = get_keys(self.select_dictionary)\n",
    "        self.select_texts = get_vals(self.select_dictionary)\n",
    "    \n",
    "    def sequence_process(self, dict_):\n",
    "        ''' Helper to process breakdown on all select dictionary '''\n",
    "        X1, X2, Y = [], [], []\n",
    "\n",
    "        def breakdown_sequence(list_):\n",
    "            ''' Helper to return a list of breakdown sequences and the output '''\n",
    "            x, y = [], []\n",
    "            for i in range(1, len(list_)):\n",
    "                x.append(list_[:i])\n",
    "                y.append(list_[i])\n",
    "            return x, y\n",
    "        \n",
    "        for ind, texts in dict_.items():\n",
    "            sequences = self.tokenizer.texts_to_sequences(texts)\n",
    "            \n",
    "            for seq in sequences:\n",
    "                x, y = breakdown_sequence(seq)\n",
    "\n",
    "                X1.extend(np.repeat(ind, len(y)))\n",
    "                X2.extend(x)\n",
    "                Y.extend(y)\n",
    "\n",
    "        return X1, X2, Y\n",
    "\n",
    "    def train_generator(self, train_list):\n",
    "        '''\n",
    "        INPUT a list of training ids, \n",
    "        RETURN image inputs, text inputs, and outputs\n",
    "        ASSIGN max_length and vocab size\n",
    "        '''\n",
    "        self.update_selection(train_list)\n",
    "\n",
    "        self.tokenizer = Tokenizer()\n",
    "        self.tokenizer.fit_on_texts(np.concatenate(self.select_texts))\n",
    "        self.num_vocab = len(self.tokenizer.word_index)+1\n",
    "        \n",
    "        dict_ = self.select_dictionary\n",
    "        \n",
    "\n",
    "        X1, X2, Y = self.sequence_process(dict_)\n",
    "        \n",
    "        X2 = pad_sequences(X2)\n",
    "        self.max_length = X2.shape[1]\n",
    "    \n",
    "        Y = to_categorical(Y, self.num_vocab)\n",
    "        X1 = get_features(self.features, X1)\n",
    "        return np.array(X1), np.array(X2), np.array(Y)\n",
    "\n",
    "    def validation_generator(self, val_list):\n",
    "        '''\n",
    "        INPUT a list of validation ids, \n",
    "        RETURN image inputs, text inputs and outputs\n",
    "        '''\n",
    "        self.update_selection(val_list)\n",
    "        \n",
    "        dict_ = self.select_dictionary\n",
    "\n",
    "        X1, X2, Y = self.sequence_process(dict_)\n",
    "        X2 = pad_sequences(X2, maxlen = self.max_length)\n",
    "        Y = to_categorical(Y, num_classes = self.num_vocab)\n",
    "        X1 = get_features(self.features, X1)\n",
    "\n",
    "        return np.array(X1), np.array(X2), np.array(Y)\n",
    "    \n",
    "    def get_num_vocab(self):\n",
    "        return self.num_vocab\n",
    "    def get_max_length(self):\n",
    "        return self.max_length\n",
    "    def get_tokenizer(self):\n",
    "        return self.tokenizer"
   ]
  },
  {
   "cell_type": "code",
   "execution_count": null,
   "metadata": {},
   "outputs": [],
   "source": [
    "def plot_performance(hist):\n",
    "    ''' \n",
    "    function to compare training and validation \n",
    "    Input: model with epochs info\n",
    "    '''\n",
    "    hist_ = hist.history\n",
    "    epochs = hist.epoch\n",
    "    \n",
    "    plt.figure()\n",
    "    plt.plot(epochs, hist_['loss'], label='Training loss')\n",
    "    plt.plot(epochs, hist_['val_loss'], label='Validation loss')\n",
    "    plt.title('Training and validation loss')\n",
    "    plt.legend()\n",
    "    \n",
    "    plt.show()"
   ]
  },
  {
   "cell_type": "code",
   "execution_count": 33,
   "metadata": {},
   "outputs": [],
   "source": [
    "def ind2word(ind, tokenizer):\n",
    "    '''\n",
    "    function to convert word ids to word\n",
    "    Input: int \n",
    "    Output: str\n",
    "    '''\n",
    "    return tokenizer.index_word[ind]\n",
    "\n",
    "def caption_generator(img_ind, features, tokenizer, max_length, model):\n",
    "    ''' \n",
    "    helper function to return the prediction \n",
    "\n",
    "    Input: image id (str), feature_dict, tokenizer, max_length(int)\n",
    "    Output: a caption\n",
    "    '''\n",
    "    \n",
    "    img_feats = get_features(feature_dict, img_ind)\n",
    "    img_feats = np.expand_dims(img_feats, axis = 0)\n",
    "    current_int = tokenizer.texts_to_sequences(['seqini'])\n",
    "    fin_int = tokenizer.texts_to_sequences(['seqfin'])[0]\n",
    "    \n",
    "    # iterate each sequence and predict the next word\n",
    "    for i in range(max_length):\n",
    "        current_seq = pad_sequences(current_int, maxlen = max_length)\n",
    "        next_int = np.argmax(model.predict([img_feats, current_seq]))\n",
    "        if next_int != fin_int:\n",
    "            current_int = [current_int[0] + [next_int]]\n",
    "        else: break\n",
    "    \n",
    "    # now translate it into the word\n",
    "    return ' '.join([ind2word(x, tokenizer) for x in current_seq[0] if x != 0][1:])"
   ]
  },
  {
   "cell_type": "code",
   "execution_count": null,
   "metadata": {},
   "outputs": [],
   "source": [
    "class descriptor:\n",
    "    '''\n",
    "    Input features, tokenizer, processor, model, img_dir\n",
    "    Return a descriptor object\n",
    "    '''\n",
    "    def __init__(self, features, tokenizer, processor, model, img_dir = flicker_img_dir):\n",
    "        self.features = features\n",
    "        self.tokenizer = tokenizer\n",
    "        self.processor = processor\n",
    "        self.model = model\n",
    "        self.max_length = processor.get_max_length()\n",
    "        self.num_vocab = processor.get_num_vocab()\n",
    "        self.tokenizer = processor.get_tokenizer()\n",
    "        self.img_dir = img_dir\n",
    "        \n",
    "    def test_one_image(self, img_id):\n",
    "        ''' print generated caption and image given an id'''\n",
    "        print(caption_generator(img_id, self.features, self.tokenizer, self.max_length))\n",
    "        img = mpimg.imread(f'{self.img_dir}/{img_id}.jpg')\n",
    "        plt.imshow(img)\n",
    "        plt.grid(False)\n",
    "        plt.show()\n",
    "    \n",
    "    def update_model(self, newmodel):\n",
    "        self.model = newmodel\n",
    "    \n",
    "    def update_directory(self, new_dir):\n",
    "        self.img_dir = new_dir\n",
    "        \n",
    "    def test_random_image(self, img_inds):\n",
    "        ''' print random image and generated caption '''\n",
    "        rand_id = np.random.choice(img_inds, 1)[0]\n",
    "        self.test_one_image(rand_id)"
   ]
  },
  {
   "cell_type": "code",
   "execution_count": 48,
   "metadata": {},
   "outputs": [],
   "source": [
    "def get_bleu(img_inds, feature_dict, tokenizer, max_length, model, text_ref_dict):\n",
    "    ''' \n",
    "    Input takes image index, feature dictionary, \n",
    "    tokenizer, max length of tokens, model, \n",
    "    and description dictionary \n",
    "    Output predictions and BLEU score for 1-gram to 4-gram \n",
    "    '''\n",
    "    prediction_list = {}\n",
    "    n = len(img_inds)\n",
    "    hypotheses = []\n",
    "    references = []\n",
    "    for i, ind in enumerate(img_inds):\n",
    "        caption = caption_generator(ind, \n",
    "                                    feature_dict, \n",
    "                                    tokenizer, \n",
    "                                    max_length, \n",
    "                                    model)\n",
    "        prediction_list[ind] = caption\n",
    "        hypotheses.append(caption.split())\n",
    "        \n",
    "        ref = get_text(text_ref_dict, ind)\n",
    "        references.append([x.split()[1:-1] for x in ref])\n",
    "        \n",
    "        print(i+1, '/', n, 'complete')\n",
    "    bleu_1 = corpus_bleu(references, hypotheses, weights = (1, 0, 0, 0))\n",
    "    bleu_2 = corpus_bleu(references, hypotheses, weights = (.5, .5, 0, 0))\n",
    "    bleu_3 = corpus_bleu(references, hypotheses, weights = (.3, .3, .3, 0))\n",
    "    bleu_4 = corpus_bleu(references, hypotheses)\n",
    "\n",
    "    print(f'1-gram BLEU: {round(bleu_1, 4)}')\n",
    "    print(f'2-gram BLEU: {round(bleu_2, 4)}')\n",
    "    print(f'3-gram BLEU: {round(bleu_3, 4)}')\n",
    "    print(f'4-gram BLEU: {round(bleu_4, 4)}')\n",
    "    return prediction_list, (bleu_1, bleu_2, bleu_3, bleu_4)"
   ]
  },
  {
   "cell_type": "markdown",
   "metadata": {},
   "source": [
    "## Loading Features\n",
    "---\n",
    "Loading features and dictionaries (processed in model 1)"
   ]
  },
  {
   "cell_type": "code",
   "execution_count": 12,
   "metadata": {},
   "outputs": [],
   "source": [
    "with open('PKL/full_descriptions.pkl', 'rb') as fp:\n",
    "    descriptions = pickle.load(fp)\n",
    "    \n",
    "with open('PKL/full_features.pkl', 'rb') as fp:\n",
    "    features = pickle.load(fp)"
   ]
  },
  {
   "cell_type": "markdown",
   "metadata": {},
   "source": [
    "## Load data\n",
    "---\n",
    "Loading data processed in model 1"
   ]
  },
  {
   "cell_type": "code",
   "execution_count": 16,
   "metadata": {},
   "outputs": [],
   "source": [
    "with open('PKL/train_list_full.pkl', 'rb') as fp:\n",
    "    train_list_full = pickle.load(fp)\n",
    "\n",
    "with open('PKL/val_list_full.pkl', 'rb') as fp:\n",
    "    val_list_full = pickle.load(fp)\n",
    "    \n",
    "with open('PKL/test_list.pkl', 'rb') as fp:\n",
    "    test_list = pickle.load(fp)\n",
    "    \n",
    "with open('PKL/test_list_art.pkl', 'rb') as fp:\n",
    "    test_list_art = pickle.load(fp)"
   ]
  },
  {
   "cell_type": "markdown",
   "metadata": {},
   "source": [
    "## Iteration 5 with Full Set\n",
    "Previous I ran this iteration with only half of the descriptions. I'll run with full set this time."
   ]
  },
  {
   "cell_type": "code",
   "execution_count": 64,
   "metadata": {},
   "outputs": [],
   "source": [
    "# generate inputs and outputs\n",
    "processor4 = sequence_generator(descriptions, features)\n",
    "train_X1, train_X2, train_Y = processor4.train_generator(train_list_full)\n",
    "val_X1, val_X2, val_Y = processor4.validation_generator(val_list_full)"
   ]
  },
  {
   "cell_type": "code",
   "execution_count": 65,
   "metadata": {},
   "outputs": [],
   "source": [
    "# get params\n",
    "tokenizer = processor4.get_tokenizer()\n",
    "max_length = processor4.get_max_length()\n",
    "num_vocab = processor4.get_num_vocab()"
   ]
  },
  {
   "cell_type": "code",
   "execution_count": 66,
   "metadata": {},
   "outputs": [
    {
     "data": {
      "text/plain": [
       "6592"
      ]
     },
     "execution_count": 66,
     "metadata": {},
     "output_type": "execute_result"
    }
   ],
   "source": [
    "num_vocab"
   ]
  },
  {
   "cell_type": "code",
   "execution_count": 67,
   "metadata": {},
   "outputs": [
    {
     "data": {
      "text/plain": [
       "124530"
      ]
     },
     "execution_count": 67,
     "metadata": {},
     "output_type": "execute_result"
    }
   ],
   "source": [
    "len(train_Y)"
   ]
  },
  {
   "cell_type": "code",
   "execution_count": null,
   "metadata": {
    "scrolled": true
   },
   "outputs": [],
   "source": [
    "# model architecture\n",
    "#first path\n",
    "in1 = Input(shape = (4032,))\n",
    "img_layer1 = Dropout(0.5)(in1)\n",
    "img_layer2 = Dense(512, activation = 'relu')(img_layer1)\n",
    "\n",
    "# second path\n",
    "in2 = Input(shape=(max_length,))\n",
    "text_layer1 = Embedding(num_vocab, 512, mask_zero = True)(in2)\n",
    "text_layer2 = Dropout(0.5)(text_layer1)\n",
    "text_layer3 = LSTM(512, dropout = 0.5, return_sequences = True)(text_layer2)\n",
    "text_layer4 = LSTM(512, dropout = 0.5)(text_layer3)\n",
    "\n",
    "# outputting\n",
    "output_layer1 = add([img_layer2, text_layer4])\n",
    "output_layer2 = Dense(512, activation = 'relu')(output_layer1)\n",
    "output = Dense(num_vocab, activation = 'softmax')(output_layer2)\n",
    "\n",
    "# compile model\n",
    "model = Model(inputs = [in1, in2], outputs = output)\n",
    "model.compile(loss = 'categorical_crossentropy', \n",
    "             optimizer = 'adam')\n",
    "\n",
    "#cp = EarlyStopping(patience = 3, restore_best_weights= True)\n",
    "cp_cb = ModelCheckpoint(filepath = 'MODEL/combined_model_v3')\n",
    "\n",
    "# training\n",
    "start = timer()\n",
    "\n",
    "history = model.fit([train_X1, train_X2], train_Y, \n",
    "                    epochs=5, \n",
    "                    validation_data = ([val_X1, val_X2], val_Y),\n",
    "                    workers = -1, \n",
    "                    callbacks = [cp_cb], \n",
    "                    verbose = 1\n",
    "                   )\n",
    "end = timer()\n",
    "elapsed = end - start\n",
    "print('Total Time Elapsed: ', int(elapsed//60), ' minutes ', (round(elapsed%60)), ' seconds')"
   ]
  },
  {
   "cell_type": "code",
   "execution_count": 90,
   "metadata": {},
   "outputs": [
    {
     "data": {
      "image/png": "[encoded data removed]",
      "text/plain": [
       "<Figure size 432x288 with 1 Axes>"
      ]
     },
     "metadata": {
      "needs_background": "light"
     },
     "output_type": "display_data"
    }
   ],
   "source": [
    "plot_performance(history)"
   ]
  },
  {
   "cell_type": "code",
   "execution_count": null,
   "metadata": {
    "scrolled": true
   },
   "outputs": [],
   "source": [
    "# testing on photo data\n",
    "pred_list, score = get_bleu(test_list, features, tokenizer, max_length, model, descriptions)"
   ]
  },
  {
   "cell_type": "markdown",
   "metadata": {},
   "source": [
    "1-gram BLEU: 0.4787  \n",
    "2-gram BLEU: 0.2638  \n",
    "3-gram BLEU: 0.1689  \n",
    "4-gram BLEU: 0.0742  \n",
    "3-gram and 4-gram BLEU dropped slightly but 1-gram improved. So it's classifying some of the objects better."
   ]
  },
  {
   "cell_type": "code",
   "execution_count": null,
   "metadata": {},
   "outputs": [],
   "source": [
    "flicker_descriptor = descriptor(features, tokenizer, processor, model)\n",
    "flicker_descriptor.test_random_image(img_id)"
   ]
  },
  {
   "cell_type": "code",
   "execution_count": null,
   "metadata": {},
   "outputs": [],
   "source": [
    "art_descriptor = descriptor(features, tokenizer, processor, model, img_dir = art_dir)\n",
    "art_descriptor.test_one_image(img_id)"
   ]
  },
  {
   "cell_type": "code",
   "execution_count": null,
   "metadata": {},
   "outputs": [],
   "source": []
  }
 ],
 "metadata": {
  "kernelspec": {
   "display_name": "Python 3",
   "language": "python",
   "name": "python3"
  },
  "language_info": {
   "codemirror_mode": {
    "name": "ipython",
    "version": 3
   },
   "file_extension": ".py",
   "mimetype": "text/x-python",
   "name": "python",
   "nbconvert_exporter": "python",
   "pygments_lexer": "ipython3",
   "version": "3.8.5"
  }
 },
 "nbformat": 4,
 "nbformat_minor": 4
}
