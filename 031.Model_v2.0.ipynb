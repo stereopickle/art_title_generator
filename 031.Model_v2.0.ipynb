{
 "cells": [
  {
   "cell_type": "markdown",
   "metadata": {},
   "source": [
    "# Model V2 (Smaller Unit) \n",
    "\n",
    "One of the major feedback I received was that the architecture unit is likely too large. In this variation, I'll test using a smaller unit size. "
   ]
  },
  {
   "cell_type": "code",
   "execution_count": 1,
   "metadata": {},
   "outputs": [],
   "source": [
    "import numpy as np\n",
    "\n",
    "import matplotlib.pyplot as plt\n",
    "import matplotlib.image as mpimg\n",
    "\n",
    "plt.style.use('fivethirtyeight')\n",
    "%matplotlib inline\n",
    "\n",
    "from tensorflow.keras.applications import NASNetLarge \n",
    "from tensorflow.keras.applications.nasnet import preprocess_input\n",
    "from tensorflow.keras.preprocessing.image import load_img, img_to_array\n",
    "from tensorflow.keras.models import Model, model_from_json, load_model\n",
    "from tensorflow.keras.layers import Input, Dropout, Dense, Embedding, LSTM, add\n",
    "from tensorflow.keras.callbacks import EarlyStopping, ModelCheckpoint\n",
    "from sklearn.model_selection import train_test_split\n",
    "\n",
    "import pickle\n",
    "import os\n",
    "from timeit import default_timer as timer\n",
    "\n",
    "import string\n",
    "import re"
   ]
  },
  {
   "cell_type": "markdown",
   "metadata": {},
   "source": [
    "Loading custom scripts"
   ]
  },
  {
   "cell_type": "code",
   "execution_count": 2,
   "metadata": {},
   "outputs": [],
   "source": [
    "from SCRIPT.sequence_generator import *\n",
    "from SCRIPT.evaluation_tools import *"
   ]
  },
  {
   "cell_type": "markdown",
   "metadata": {},
   "source": [
    "File locations"
   ]
  },
  {
   "cell_type": "code",
   "execution_count": 3,
   "metadata": {},
   "outputs": [],
   "source": [
    "flicker_img_dir = 'IMAGES/Flicker/Flicker8k_Dataset'\n",
    "flicker_text_dir = 'IMAGES/Flicker/labels'"
   ]
  },
  {
   "cell_type": "markdown",
   "metadata": {},
   "source": [
    "## Feature Extraction\n",
    "Extract features using NASNetLarge"
   ]
  },
  {
   "cell_type": "code",
   "execution_count": 5,
   "metadata": {},
   "outputs": [],
   "source": [
    "def feature_extractor(dir_, network):\n",
    "    ''' \n",
    "    iterate through files in dir_ \n",
    "    and get features running on network\n",
    "    return a dictionary with image id as a key\n",
    "    '''\n",
    "    model = network()\n",
    "    model = Model(inputs = model.inputs, outputs = model.layers[-2].output)\n",
    "    fnames = [x for x in os.listdir(dir_) if x.endswith('.jpg')]\n",
    "    result = {}\n",
    "    i = 1\n",
    "    n = len(fnames)\n",
    "    \n",
    "    for fn in fnames:\n",
    "        img = load_img(f'{dir_}/{fn}', target_size = (331, 331))\n",
    "        img = np.expand_dims(img, 0)\n",
    "        img = preprocess_input(img)\n",
    "        feature = model.predict(img)\n",
    "        ind = fn.split('.')[0]\n",
    "        result[ind] = feature\n",
    "        print(f'{i}/{n} feature extraction completed')\n",
    "        i += 1\n",
    "    return result"
   ]
  },
  {
   "cell_type": "code",
   "execution_count": null,
   "metadata": {},
   "outputs": [],
   "source": [
    "# run\n",
    "features = feature_extractor(flicker_img_dir, NASNetLarge)"
   ]
  },
  {
   "cell_type": "code",
   "execution_count": null,
   "metadata": {},
   "outputs": [],
   "source": [
    "# Saving\n",
    "#with open('PKL/features.pkl', 'wb') as fp:\n",
    "#    pickle.dump(features, fp, pickle.HIGHEST_PROTOCOL)"
   ]
  },
  {
   "cell_type": "code",
   "execution_count": 7,
   "metadata": {},
   "outputs": [],
   "source": [
    "# loading\n",
    "with open('PKL/features.pkl', 'rb') as fp:\n",
    "    features = pickle.load(fp)"
   ]
  },
  {
   "cell_type": "markdown",
   "metadata": {},
   "source": [
    "extract feature from paintings too"
   ]
  },
  {
   "cell_type": "code",
   "execution_count": null,
   "metadata": {},
   "outputs": [],
   "source": [
    "img_dir = 'IMAGES\\paintings'\n",
    "art_features = feature_extractor(img_dir, NASNetLarge)"
   ]
  },
  {
   "cell_type": "code",
   "execution_count": null,
   "metadata": {},
   "outputs": [],
   "source": [
    "# saving the extracted features\n",
    "#with open('PKL/art_features.pkl', 'wb') as fp:\n",
    "#    pickle.dump(art_features, fp, pickle.HIGHEST_PROTOCOL)"
   ]
  },
  {
   "cell_type": "code",
   "execution_count": 9,
   "metadata": {},
   "outputs": [],
   "source": [
    "# loading\n",
    "with open('PKL/art_features.pkl', 'rb') as fp:\n",
    "    art_features = pickle.load(fp)"
   ]
  },
  {
   "cell_type": "markdown",
   "metadata": {},
   "source": [
    "## Get Descriptions"
   ]
  },
  {
   "cell_type": "code",
   "execution_count": 10,
   "metadata": {},
   "outputs": [],
   "source": [
    "# read the description file\n",
    "with open(f'{flicker_text_dir}/Flickr8k.token.txt', 'r') as fn:\n",
    "    text = fn.readlines()"
   ]
  },
  {
   "cell_type": "code",
   "execution_count": 11,
   "metadata": {},
   "outputs": [],
   "source": [
    "# extract only image id and description\n",
    "pattern = '([0-9a-z_]*)\\.jpg.*\\\\t(.*)\\\\n'\n",
    "p = re.compile(pattern)\n",
    "descriptions_pairs = [p.findall(x)[0] for x in text]"
   ]
  },
  {
   "cell_type": "code",
   "execution_count": 12,
   "metadata": {},
   "outputs": [],
   "source": [
    "def description_preprocessing(list_of_tuples, n = None):\n",
    "    '''\n",
    "    given description pairs, return a dictionary of descriptions\n",
    "    if n is specified, only select the n number or less descriptions\n",
    "    per image\n",
    "    '''\n",
    "    descriptions = {}\n",
    "\n",
    "    table_ = str.maketrans('', '', string.punctuation+string.digits)\n",
    "\n",
    "    for ind, text in list_of_tuples:\n",
    "        text = text.lower()\n",
    "        text = str.translate(text, table_)\n",
    "        text = [x for x in text.split() if len(x) > 1] # remove trailing alphabet\n",
    "        text = 'seqini ' + ' '.join(text) + ' seqfin' # add initial and ending tokens\n",
    "        if ind in descriptions:\n",
    "            descriptions[ind].append(text)\n",
    "        else:\n",
    "            descriptions[ind] = [text]\n",
    "    if n:\n",
    "        # if n is assigned cap number of description for each image to be n\n",
    "        for k, v in descriptions.items():\n",
    "            if len(v) > n:\n",
    "                descriptions[k] = list(np.random.choice(v, n, replace = False))\n",
    "    return descriptions"
   ]
  },
  {
   "cell_type": "code",
   "execution_count": 13,
   "metadata": {},
   "outputs": [],
   "source": [
    "# saving\n",
    "#with open('PKL/descriptions.pkl', 'wb') as fp:\n",
    "#    pickle.dump(descriptions, fp)\n",
    "\n",
    "# loading\n",
    "with open('PKL/descriptions.pkl', 'rb') as fp:\n",
    "    descriptions = pickle.load(fp)"
   ]
  },
  {
   "cell_type": "markdown",
   "metadata": {},
   "source": [
    "## Crossvalidation\n",
    "Split the photo sets into train/test/val"
   ]
  },
  {
   "cell_type": "code",
   "execution_count": 14,
   "metadata": {},
   "outputs": [],
   "source": [
    "train_list, test_list = train_test_split(list(descriptions.keys()), test_size = 0.3, random_state = 22)\n",
    "val_list, test_list = train_test_split(test_list, test_size = 0.5, random_state = 22)"
   ]
  },
  {
   "cell_type": "markdown",
   "metadata": {},
   "source": [
    "## Model Training\n",
    "Train model with photo files"
   ]
  },
  {
   "cell_type": "code",
   "execution_count": 15,
   "metadata": {},
   "outputs": [],
   "source": [
    "# initialize processor with non-art descriptions and features\n",
    "processor = sequence_generator(descriptions, features)"
   ]
  },
  {
   "cell_type": "code",
   "execution_count": 16,
   "metadata": {},
   "outputs": [],
   "source": [
    "# get inputs and output\n",
    "train_X1, train_X2, train_Y = processor.train_generator(train_list)\n",
    "val_X1, val_X2, val_Y = processor.validation_generator(val_list)"
   ]
  },
  {
   "cell_type": "code",
   "execution_count": 17,
   "metadata": {},
   "outputs": [],
   "source": [
    "# get max length and number of vocabularies\n",
    "max_length = processor.get_max_length()\n",
    "num_vocab = processor.get_num_vocab()"
   ]
  },
  {
   "cell_type": "code",
   "execution_count": null,
   "metadata": {},
   "outputs": [
    {
     "name": "stdout",
     "output_type": "stream",
     "text": [
      "Epoch 1/10\n"
     ]
    }
   ],
   "source": [
    "#first path\n",
    "in1 = Input(shape = (4032,))\n",
    "img_layer1 = Dropout(0.5)(in1)\n",
    "img_layer2 = Dense(64, activation = 'relu')(img_layer1)\n",
    "# second path\n",
    "in2 = Input(shape=(max_length,))\n",
    "text_layer1 = Embedding(num_vocab, 256, mask_zero = True)(in2)\n",
    "text_layer2 = Dropout(0.5)(text_layer1)\n",
    "text_layer3 = LSTM(64)(text_layer2)\n",
    "# outputting\n",
    "output_layer1 = add([img_layer2, text_layer3])\n",
    "output_layer2 = Dense(64, activation = 'relu')(output_layer1)\n",
    "output = Dense(num_vocab, activation = 'softmax')(output_layer2)\n",
    "# compile model\n",
    "model = Model(inputs = [in1, in2], outputs = output)\n",
    "model.compile(loss = 'categorical_crossentropy', \n",
    "             optimizer = 'adam')\n",
    "\n",
    "cp = EarlyStopping(patience = 3, restore_best_weights= True)\n",
    "\n",
    "# training\n",
    "start = timer()\n",
    "\n",
    "history = model.fit([train_X1, train_X2], train_Y, \n",
    "                    epochs=10, \n",
    "                    validation_data = ([val_X1, val_X2], val_Y),\n",
    "                    workers = 7, \n",
    "                    callbacks = [cp], \n",
    "                    verbose = 1\n",
    "                   )\n",
    "end = timer()\n",
    "elapsed = end - start\n",
    "print('Total Time Elapsed: ', int(elapsed//60), ' minutes ', (round(elapsed%60)), ' seconds')"
   ]
  },
  {
   "cell_type": "code",
   "execution_count": null,
   "metadata": {},
   "outputs": [],
   "source": [
    "# saving model\n",
    "model.save('MODEL/small_model')"
   ]
  },
  {
   "cell_type": "code",
   "execution_count": null,
   "metadata": {},
   "outputs": [],
   "source": [
    "#loading model\n",
    "model = load_model('MODEL/small_model')"
   ]
  },
  {
   "cell_type": "code",
   "execution_count": null,
   "metadata": {},
   "outputs": [],
   "source": [
    "plot_performance(history)"
   ]
  },
  {
   "cell_type": "code",
   "execution_count": null,
   "metadata": {},
   "outputs": [],
   "source": [
    "# get the tokenizer\n",
    "tokenizer = processor.get_tokenizer()"
   ]
  },
  {
   "cell_type": "code",
   "execution_count": null,
   "metadata": {},
   "outputs": [],
   "source": [
    "get_bleu(img_inds, feature_dict, tokenizer, max_length, model, text_ref_dict)"
   ]
  },
  {
   "cell_type": "code",
   "execution_count": null,
   "metadata": {},
   "outputs": [],
   "source": [
    "descriptor_1 = descriptor()\n",
    "\n"
   ]
  }
 ],
 "metadata": {
  "kernelspec": {
   "display_name": "Python 3",
   "language": "python",
   "name": "python3"
  },
  "language_info": {
   "codemirror_mode": {
    "name": "ipython",
    "version": 3
   },
   "file_extension": ".py",
   "mimetype": "text/x-python",
   "name": "python",
   "nbconvert_exporter": "python",
   "pygments_lexer": "ipython3",
   "version": "3.8.5"
  }
 },
 "nbformat": 4,
 "nbformat_minor": 4
}
