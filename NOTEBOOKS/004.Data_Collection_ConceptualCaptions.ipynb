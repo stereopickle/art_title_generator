{
 "cells": [
  {
   "cell_type": "markdown",
   "metadata": {},
   "source": [
    "# Data Collection - Conceptual Captions\n",
    "In this document, I'll download the images from Google's Conceptual Captions dataset. (https://ai.google.com/research/ConceptualCaptions/download)"
   ]
  },
  {
   "cell_type": "code",
   "execution_count": 5,
   "metadata": {},
   "outputs": [],
   "source": [
    "import pandas as pd"
   ]
  },
  {
   "cell_type": "code",
   "execution_count": 13,
   "metadata": {},
   "outputs": [],
   "source": [
    "train_df = pd.read_csv('DATA/Train_GCC-training.tsv', delimiter='\\t', header=None, names = ['description', 'url'])"
   ]
  },
  {
   "cell_type": "code",
   "execution_count": 15,
   "metadata": {},
   "outputs": [],
   "source": [
    "val_df = pd.read_csv('DATA/Validation_GCC-1.1.0-Validation.tsv', delimiter = '\\t', header = None, names = ['description', 'url'])"
   ]
  },
  {
   "cell_type": "markdown",
   "metadata": {},
   "source": [
    "### Download images\n",
    "Now I'll make a call to individual url to download images to the local drive."
   ]
  },
  {
   "cell_type": "code",
   "execution_count": 24,
   "metadata": {},
   "outputs": [],
   "source": [
    "import urllib"
   ]
  },
  {
   "cell_type": "code",
   "execution_count": 26,
   "metadata": {},
   "outputs": [],
   "source": [
    "t = train_df.url[0]"
   ]
  },
  {
   "cell_type": "code",
   "execution_count": 29,
   "metadata": {},
   "outputs": [],
   "source": [
    "img = urllib.request.urlopen(t)"
   ]
  },
  {
   "cell_type": "code",
   "execution_count": 59,
   "metadata": {},
   "outputs": [],
   "source": [
    "from urllib import request\n",
    "import sys\n",
    "import time\n",
    "from PIL import Image"
   ]
  },
  {
   "cell_type": "code",
   "execution_count": 66,
   "metadata": {},
   "outputs": [],
   "source": [
    "# downloading images\n",
    "def download_img(ind, url, path = 'DATA/IMAGES/Conceptual_Captions', pause = False): \n",
    "    \n",
    "    if url.startswith('http'):\n",
    "\n",
    "        try: \n",
    "            # save the file\n",
    "            \n",
    "            fpath = f\"{path}/{ind}.jpg\"\n",
    "            request.urlretrieve(url, filename = fpath)\n",
    "            status = 'saved'\n",
    "\n",
    "            try:\n",
    "                # resizing image\n",
    "                img = Image.open(fpath)\n",
    "                img.thumbnail((500, 500))\n",
    "                img.save(fpath)\n",
    "                status = 'complete'\n",
    "\n",
    "            except: \n",
    "                print(f'Failed to resize. \\n{sys.exc_info()[0]}')\n",
    "                status = 'failed: resizing'\n",
    "\n",
    "        except:\n",
    "            print(f'Failed to save. \\n{sys.exc_info()[0]}')\n",
    "            status = 'failed: saving'\n",
    "\n",
    "\n",
    "    else:\n",
    "        status = 'failed: invalid_url'\n",
    "    \n",
    "    if pause: \n",
    "        pause = np.random.randint(1, 60)\n",
    "        time.sleep(pause) # buffer\n",
    "        \n",
    "    return status"
   ]
  },
  {
   "cell_type": "code",
   "execution_count": 67,
   "metadata": {},
   "outputs": [],
   "source": [
    "tmp = train_df.copy()"
   ]
  },
  {
   "cell_type": "code",
   "execution_count": 68,
   "metadata": {},
   "outputs": [],
   "source": [
    "tmp['status'] = None"
   ]
  },
  {
   "cell_type": "code",
   "execution_count": null,
   "metadata": {},
   "outputs": [],
   "source": [
    "for ind, url in enumerate(tmp['url']): \n",
    "    status = download_img(ind, url) \n",
    "    if status != 'complete': \n",
    "        print (ind, status)\n",
    "    tmp['status'][ind] = status"
   ]
  },
  {
   "cell_type": "code",
   "execution_count": null,
   "metadata": {},
   "outputs": [],
   "source": [
    "for i in range(len(image_id_set)):\n",
    "    image_id_set.iloc[i] = download_img(image_id_set.iloc[i])"
   ]
  }
 ],
 "metadata": {
  "kernelspec": {
   "display_name": "Python 3",
   "language": "python",
   "name": "python3"
  },
  "language_info": {
   "codemirror_mode": {
    "name": "ipython",
    "version": 3
   },
   "file_extension": ".py",
   "mimetype": "text/x-python",
   "name": "python",
   "nbconvert_exporter": "python",
   "pygments_lexer": "ipython3",
   "version": "3.8.5"
  }
 },
 "nbformat": 4,
 "nbformat_minor": 4
}
