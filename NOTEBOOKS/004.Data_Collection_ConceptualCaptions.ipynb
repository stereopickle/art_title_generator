{
 "cells": [
  {
   "cell_type": "markdown",
   "metadata": {},
   "source": [
    "# Data Collection - Conceptual Captions\n",
    "In this document, I'll download the images from Google's Conceptual Captions dataset. (https://ai.google.com/research/ConceptualCaptions/download)"
   ]
  },
  {
   "cell_type": "code",
   "execution_count": 2,
   "metadata": {},
   "outputs": [],
   "source": [
    "import pandas as pd"
   ]
  },
  {
   "cell_type": "code",
   "execution_count": 3,
   "metadata": {},
   "outputs": [],
   "source": [
    "train_df = pd.read_csv('../DATA/Train_GCC-training.tsv', delimiter='\\t', header=None, names = ['description', 'url'])"
   ]
  },
  {
   "cell_type": "code",
   "execution_count": 4,
   "metadata": {},
   "outputs": [],
   "source": [
    "val_df = pd.read_csv('../DATA/Validation_GCC-1.1.0-Validation.tsv', delimiter = '\\t', header = None, names = ['description', 'url'])"
   ]
  },
  {
   "cell_type": "markdown",
   "metadata": {},
   "source": [
    "### Download images\n",
    "Now I'll make a call to individual url to download images to the local drive."
   ]
  },
  {
   "cell_type": "code",
   "execution_count": 5,
   "metadata": {},
   "outputs": [],
   "source": [
    "import requests\n",
    "import sys\n",
    "import time\n",
    "from PIL import Image\n",
    "import os"
   ]
  },
  {
   "cell_type": "code",
   "execution_count": 6,
   "metadata": {},
   "outputs": [],
   "source": [
    "path = '../DATA/IMAGES/Conceptual_Captions'"
   ]
  },
  {
   "cell_type": "code",
   "execution_count": 7,
   "metadata": {},
   "outputs": [],
   "source": [
    "flist = os.listdir(path)"
   ]
  },
  {
   "cell_type": "code",
   "execution_count": 8,
   "metadata": {},
   "outputs": [],
   "source": [
    "# downloading images\n",
    "def download_img(ind, url, path, flist = None, pause = False): \n",
    "    if flist == None: \n",
    "        flist = os.listdir(path)\n",
    "    \n",
    "    print(f\"Processing {ind} \", end = '...')\n",
    "    \n",
    "    if f\"{ind}.jpg\" in flist: \n",
    "        print(f\"{ind}.jpg exists.\", end = '.')\n",
    "        status = 'saved'\n",
    "    \n",
    "    if url.startswith('http'):\n",
    "        \n",
    "        try: \n",
    "            # save the file\n",
    "                fpath = f\"{path}/{ind}.jpg\"\n",
    "                \n",
    "            if status != 'saved': \n",
    "                resp = requests.get(url, headers = {'User-Agent': 'Mozilla/5.0 (Windows NT 10.0; Win64; x64) AppleWebKit/537.36 (KHTML, like Gecko) Chrome/86.0.4240.198 Safari/537.36'})\n",
    "\n",
    "                with open(fpath, 'wb') as fp:\n",
    "                    fp.write(resp.content)\n",
    "\n",
    "                status = 'saved'\n",
    "\n",
    "            try:\n",
    "                # resizing image\n",
    "                img = Image.open(fpath)\n",
    "                img.thumbnail((500, 500))\n",
    "                img.save(fpath)\n",
    "                status = 'complete'\n",
    "                print('Complete')\n",
    "\n",
    "            except: \n",
    "                print(f'Failed to resize. \\n{sys.exc_info()[0]}')\n",
    "                status = 'failed: resizing'\n",
    "\n",
    "        except:\n",
    "            print(f'Failed to save. \\n{sys.exc_info()[0]}')\n",
    "            status = 'failed: saving'\n",
    "\n",
    "\n",
    "    else:\n",
    "        status = f'failed: invalid_url {url[:15]}...'\n",
    "    \n",
    "    if pause: \n",
    "        pause = np.random.randint(1, 60)\n",
    "        time.sleep(pause) # buffer\n",
    "        \n",
    "    return status"
   ]
  },
  {
   "cell_type": "code",
   "execution_count": 9,
   "metadata": {},
   "outputs": [],
   "source": [
    "tmp = train_df.copy()"
   ]
  },
  {
   "cell_type": "code",
   "execution_count": 10,
   "metadata": {},
   "outputs": [],
   "source": [
    "tmp['status'] = None"
   ]
  },
  {
   "cell_type": "code",
   "execution_count": 11,
   "metadata": {},
   "outputs": [],
   "source": [
    "import joblib"
   ]
  },
  {
   "cell_type": "code",
   "execution_count": null,
   "metadata": {},
   "outputs": [],
   "source": [
    "for ind, url in enumerate(tmp['url'][:30000]): \n",
    "    status = download_img(ind, url, path, flist = flist) \n",
    "    if status: \n",
    "        tmp['status'][ind] = status\n",
    "    # save the log every 1000 runs\n",
    "    if ind % 1000 == 0: \n",
    "        joblib.dump(tmp, '../TMP/tmp')\n",
    "    "
   ]
  },
  {
   "cell_type": "code",
   "execution_count": null,
   "metadata": {},
   "outputs": [],
   "source": []
  }
 ],
 "metadata": {
  "kernelspec": {
   "display_name": "Python 3",
   "language": "python",
   "name": "python3"
  },
  "language_info": {
   "codemirror_mode": {
    "name": "ipython",
    "version": 3
   },
   "file_extension": ".py",
   "mimetype": "text/x-python",
   "name": "python",
   "nbconvert_exporter": "python",
   "pygments_lexer": "ipython3",
   "version": "3.8.5"
  }
 },
 "nbformat": 4,
 "nbformat_minor": 4
}
