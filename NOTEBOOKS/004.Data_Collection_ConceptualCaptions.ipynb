{
 "cells": [
  {
   "cell_type": "markdown",
   "metadata": {},
   "source": [
    "# Data Collection - Conceptual Captions\n",
    "In this document, I'll download the images from Google's Conceptual Captions dataset. (https://ai.google.com/research/ConceptualCaptions/download)\n",
    "There are a lot of images, but for this project sake, I will only get 30K images."
   ]
  },
  {
   "cell_type": "code",
   "execution_count": 51,
   "metadata": {},
   "outputs": [],
   "source": [
    "import pandas as pd\n",
    "import requests\n",
    "import sys\n",
    "import time\n",
    "from PIL import Image\n",
    "import os\n",
    "import joblib"
   ]
  },
  {
   "cell_type": "code",
   "execution_count": 52,
   "metadata": {},
   "outputs": [],
   "source": [
    "train_df = pd.read_csv('../DATA/Train_GCC-training.tsv', delimiter='\\t', header=None, names = ['description', 'url'])"
   ]
  },
  {
   "cell_type": "markdown",
   "metadata": {},
   "source": [
    "### Download images\n",
    "Now I'll make a call to individual url to download images to the local drive."
   ]
  },
  {
   "cell_type": "code",
   "execution_count": 53,
   "metadata": {},
   "outputs": [],
   "source": [
    "path = '../DATA/IMAGES/Conceptual_Captions'"
   ]
  },
  {
   "cell_type": "code",
   "execution_count": 54,
   "metadata": {},
   "outputs": [],
   "source": [
    "flist = os.listdir(path)"
   ]
  },
  {
   "cell_type": "code",
   "execution_count": null,
   "metadata": {},
   "outputs": [],
   "source": [
    "to_delete = []"
   ]
  },
  {
   "cell_type": "code",
   "execution_count": 85,
   "metadata": {},
   "outputs": [],
   "source": [
    "# downloading images\n",
    "def download_img(ind, url, path, flist = None, pause = False): \n",
    "    status = None \n",
    "    \n",
    "    if flist == None: \n",
    "        flist = os.listdir(path)\n",
    "    \n",
    "    print(f\"Processing {ind} \", end = '...')\n",
    "    \n",
    "    if f\"{ind}.jpg\" in flist: \n",
    "        print(f\"{ind}.jpg exists.\", end = '.')\n",
    "        status = 'saved'\n",
    "    \n",
    "    if url.startswith('http'):\n",
    "        \n",
    "        # save the file\n",
    "        \n",
    "        fpath = f\"{path}/{ind}.jpg\"\n",
    "\n",
    "        if status != 'saved': \n",
    "            \n",
    "            try:\n",
    "                resp = requests.get(url, headers = {'User-Agent': 'Mozilla/5.0 (Windows NT 10.0; Win64; x64) AppleWebKit/537.36 (KHTML, like Gecko) Chrome/86.0.4240.198 Safari/537.36'})\n",
    "                with open(fpath, 'wb') as fp:\n",
    "                    fp.write(resp.content)\n",
    "\n",
    "                status = 'saved'\n",
    "                \n",
    "            except:\n",
    "                print(f'Failed to save. \\n{sys.exc_info()[0]}')\n",
    "                status = 'failed'\n",
    "                return status\n",
    "\n",
    "        try:\n",
    "            # resizing image\n",
    "            with Image.open(fpath) as img: \n",
    "                img.thumbnail((500, 500))\n",
    "                img.save(fpath)\n",
    "            \n",
    "            status = 'complete'\n",
    "            print('Complete')\n",
    "\n",
    "        except: \n",
    "            print(f'Failed to resize. \\n{sys.exc_info()[0]}')\n",
    "            status = 'delete'\n",
    "\n",
    "        \n",
    "\n",
    "\n",
    "    else:\n",
    "        status = 'failed'\n",
    "    \n",
    "    if pause: \n",
    "        pause = np.random.randint(1, 60)\n",
    "        time.sleep(pause) # buffer\n",
    "        \n",
    "    return status"
   ]
  },
  {
   "cell_type": "code",
   "execution_count": 60,
   "metadata": {},
   "outputs": [],
   "source": [
    "tmp = train_df.copy()"
   ]
  },
  {
   "cell_type": "code",
   "execution_count": 61,
   "metadata": {},
   "outputs": [],
   "source": [
    "tmp['status'] = None"
   ]
  },
  {
   "cell_type": "code",
   "execution_count": null,
   "metadata": {
    "scrolled": true
   },
   "outputs": [],
   "source": [
    "for ind, url in enumerate(tmp['url'][:30000]): \n",
    "    status = download_img(ind, url, path, flist = flist) \n",
    "    if status: \n",
    "        tmp['status'][ind] = status\n",
    "    # save the log every 1000 runs\n",
    "    if ind % 1000 == 0: \n",
    "        joblib.dump(tmp, '../TMP/tmp')"
   ]
  },
  {
   "cell_type": "code",
   "execution_count": 36,
   "metadata": {},
   "outputs": [],
   "source": [
    "#tmp = joblib.load('../TMP/tmp')"
   ]
  },
  {
   "cell_type": "code",
   "execution_count": 87,
   "metadata": {},
   "outputs": [],
   "source": [
    "# filtering out ones without images\n",
    "tmp = tmp.dropna(subset = ['status'])"
   ]
  },
  {
   "cell_type": "code",
   "execution_count": 88,
   "metadata": {},
   "outputs": [
    {
     "data": {
      "text/plain": [
       "complete    26681\n",
       "delete       2680\n",
       "failed        639\n",
       "Name: status, dtype: int64"
      ]
     },
     "execution_count": 88,
     "metadata": {},
     "output_type": "execute_result"
    }
   ],
   "source": [
    "tmp.status.value_counts()"
   ]
  },
  {
   "cell_type": "markdown",
   "metadata": {},
   "source": [
    "Let's delete ones that did not get successfully resized."
   ]
  },
  {
   "cell_type": "code",
   "execution_count": 92,
   "metadata": {},
   "outputs": [],
   "source": [
    "for item in list(tmp[tmp.status == 'delete'].index):\n",
    "    try:\n",
    "        os.remove(f\"{path}/{item}.jpg\")\n",
    "    except:\n",
    "        print(f\"{item}: {sys.exc_info()[0]}\")"
   ]
  },
  {
   "cell_type": "code",
   "execution_count": 94,
   "metadata": {},
   "outputs": [],
   "source": [
    "complete = tmp[tmp.status == 'complete']"
   ]
  },
  {
   "cell_type": "code",
   "execution_count": 96,
   "metadata": {},
   "outputs": [
    {
     "data": {
      "text/plain": [
       "['../PKL/cc_reference']"
      ]
     },
     "execution_count": 96,
     "metadata": {},
     "output_type": "execute_result"
    }
   ],
   "source": [
    "# exporting file \n",
    "cc_reference = dict(zip(complete.index, complete.description))\n",
    "joblib.dump(cc_reference, '../PKL/cc_reference')"
   ]
  },
  {
   "cell_type": "code",
   "execution_count": null,
   "metadata": {},
   "outputs": [],
   "source": []
  }
 ],
 "metadata": {
  "kernelspec": {
   "display_name": "Python 3",
   "language": "python",
   "name": "python3"
  },
  "language_info": {
   "codemirror_mode": {
    "name": "ipython",
    "version": 3
   },
   "file_extension": ".py",
   "mimetype": "text/x-python",
   "name": "python",
   "nbconvert_exporter": "python",
   "pygments_lexer": "ipython3",
   "version": "3.8.5"
  }
 },
 "nbformat": 4,
 "nbformat_minor": 4
}
