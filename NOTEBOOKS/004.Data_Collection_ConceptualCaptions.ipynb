{
 "cells": [
  {
   "cell_type": "markdown",
   "metadata": {},
   "source": [
    "# Data Collection - Conceptual Captions\n",
    "In this document, I'll download the images from Google's Conceptual Captions dataset. (https://ai.google.com/research/ConceptualCaptions/download)"
   ]
  },
  {
   "cell_type": "code",
   "execution_count": null,
   "metadata": {},
   "outputs": [],
   "source": [
    "import pandas as pd"
   ]
  },
  {
   "cell_type": "code",
   "execution_count": 4,
   "metadata": {},
   "outputs": [],
   "source": [
    "train_df = pd.read_csv('../DATA/Train_GCC-training.tsv', delimiter='\\t', header=None, names = ['description', 'url'])"
   ]
  },
  {
   "cell_type": "code",
   "execution_count": 5,
   "metadata": {},
   "outputs": [],
   "source": [
    "val_df = pd.read_csv('../DATA/Validation_GCC-1.1.0-Validation.tsv', delimiter = '\\t', header = None, names = ['description', 'url'])"
   ]
  },
  {
   "cell_type": "markdown",
   "metadata": {},
   "source": [
    "### Download images\n",
    "Now I'll make a call to individual url to download images to the local drive."
   ]
  },
  {
   "cell_type": "code",
   "execution_count": 6,
   "metadata": {},
   "outputs": [],
   "source": [
    "from urllib import request\n",
    "import sys\n",
    "import time\n",
    "from PIL import Image\n",
    "import os"
   ]
  },
  {
   "cell_type": "code",
   "execution_count": 8,
   "metadata": {},
   "outputs": [],
   "source": [
    "flist = os.listdir('../DATA/IMAGES/Conceptual_Captions')"
   ]
  },
  {
   "cell_type": "code",
   "execution_count": 9,
   "metadata": {},
   "outputs": [],
   "source": [
    "# downloading images\n",
    "def download_img(ind, url, flist = None, path = '../DATA/IMAGES/Conceptual_Captions', pause = False): \n",
    "    if flist == None: \n",
    "        flist = os.listdir(path)\n",
    "    \n",
    "    if f\"{ind}.jpg\" in flist: \n",
    "        return\n",
    "        \n",
    "    if url.startswith('http'):\n",
    "\n",
    "        try: \n",
    "            # save the file\n",
    "            \n",
    "            fpath = f\"{path}/{ind}.jpg\"\n",
    "            request.urlretrieve(url, filename = fpath)\n",
    "            status = 'saved'\n",
    "\n",
    "            try:\n",
    "                # resizing image\n",
    "                img = Image.open(fpath)\n",
    "                img.thumbnail((500, 500))\n",
    "                img.save(fpath)\n",
    "                status = 'complete'\n",
    "\n",
    "            except: \n",
    "                print(f'Failed to resize. \\n{sys.exc_info()[0]}')\n",
    "                status = 'failed: resizing'\n",
    "\n",
    "        except:\n",
    "            print(f'Failed to save. \\n{sys.exc_info()[0]}')\n",
    "            status = 'failed: saving'\n",
    "\n",
    "\n",
    "    else:\n",
    "        status = 'failed: invalid_url'\n",
    "    \n",
    "    if pause: \n",
    "        pause = np.random.randint(1, 60)\n",
    "        time.sleep(pause) # buffer\n",
    "        \n",
    "    return status"
   ]
  },
  {
   "cell_type": "code",
   "execution_count": 10,
   "metadata": {},
   "outputs": [],
   "source": [
    "tmp = train_df.copy()"
   ]
  },
  {
   "cell_type": "code",
   "execution_count": 11,
   "metadata": {},
   "outputs": [],
   "source": [
    "tmp['status'] = None"
   ]
  },
  {
   "cell_type": "code",
   "execution_count": null,
   "metadata": {},
   "outputs": [
    {
     "name": "stdout",
     "output_type": "stream",
     "text": [
      "Failed to save. \n",
      "<class 'KeyboardInterrupt'>\n",
      "Failed to save. \n",
      "<class 'urllib.error.URLError'>\n",
      "Failed to save. \n",
      "<class 'urllib.error.HTTPError'>\n",
      "Failed to save. \n",
      "<class 'urllib.error.HTTPError'>\n",
      "Failed to save. \n",
      "<class 'urllib.error.HTTPError'>\n",
      "Failed to save. \n",
      "<class 'urllib.error.HTTPError'>\n",
      "Failed to save. \n",
      "<class 'urllib.error.HTTPError'>\n",
      "Failed to save. \n",
      "<class 'urllib.error.URLError'>\n",
      "Failed to save. \n",
      "<class 'urllib.error.HTTPError'>\n",
      "Failed to save. \n",
      "<class 'urllib.error.HTTPError'>\n"
     ]
    }
   ],
   "source": [
    "for ind, url in enumerate(tmp['url']): \n",
    "    status = download_img(ind, url, flist = flist) \n",
    "    if status: \n",
    "        print(ind, status)\n",
    "        tmp['status'][ind] = status"
   ]
  },
  {
   "cell_type": "code",
   "execution_count": null,
   "metadata": {},
   "outputs": [],
   "source": []
  }
 ],
 "metadata": {
  "kernelspec": {
   "display_name": "Python 3",
   "language": "python",
   "name": "python3"
  },
  "language_info": {
   "codemirror_mode": {
    "name": "ipython",
    "version": 3
   },
   "file_extension": ".py",
   "mimetype": "text/x-python",
   "name": "python",
   "nbconvert_exporter": "python",
   "pygments_lexer": "ipython3",
   "version": "3.8.5"
  }
 },
 "nbformat": 4,
 "nbformat_minor": 4
}
