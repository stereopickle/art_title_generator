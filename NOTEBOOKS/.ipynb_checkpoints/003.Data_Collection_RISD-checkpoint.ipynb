{
 "cells": [
  {
   "cell_type": "markdown",
   "metadata": {},
   "source": [
    "# Data Collection\n",
    "\n",
    "Here I will take information from RISD Museum Collection API.  \n",
    "Documentation can be found here: https://risdmuseum.org/art-design/projects-publications/articles/risd-museum-collection-api"
   ]
  },
  {
   "cell_type": "markdown",
   "metadata": {},
   "source": [
    "## Import data"
   ]
  },
  {
   "cell_type": "code",
   "execution_count": null,
   "metadata": {},
   "outputs": [],
   "source": [
    "import pandas as pd\n",
    "import numpy as np\n",
    "import requests\n",
    "import json\n",
    "import nltk\n",
    "\n",
    "import time\n",
    "\n",
    "import pickle"
   ]
  },
  {
   "cell_type": "markdown",
   "metadata": {},
   "source": [
    "This API allow loading maximum 25 items at a time.  \n",
    "There are about 3900 works with 'painting' search term in their collection. I'll run it through about 156 times."
   ]
  },
  {
   "cell_type": "code",
   "execution_count": 9,
   "metadata": {},
   "outputs": [],
   "source": [
    "url = \"https://risdmuseum.org/api/v1/collection\" #RISD Museum collection\n",
    "\n",
    "db = []\n",
    "\n",
    "for i in range(156):\n",
    "    resp = requests.get(url, {'search_api_fulltext': 'painting', \n",
    "                'items_per_page': 25, \n",
    "                'page': i})\n",
    "    db.extend(resp.json())\n",
    "    time.sleep(np.random.randint(10, 3600))"
   ]
  },
  {
   "cell_type": "markdown",
   "metadata": {},
   "source": [
    "### Downloading Images"
   ]
  },
  {
   "cell_type": "code",
   "execution_count": null,
   "metadata": {},
   "outputs": [],
   "source": [
    "df = pd.DataFrame(db)"
   ]
  },
  {
   "cell_type": "code",
   "execution_count": null,
   "metadata": {},
   "outputs": [],
   "source": [
    "image_id_set = df[['id', 'images']]"
   ]
  },
  {
   "cell_type": "code",
   "execution_count": null,
   "metadata": {},
   "outputs": [],
   "source": [
    "image_id_set['image'] = [x[0]  if x else '' for x in image_id_set['images']]"
   ]
  },
  {
   "cell_type": "code",
   "execution_count": null,
   "metadata": {},
   "outputs": [],
   "source": [
    "# downloading images\n",
    "def download_img(df): \n",
    "    url = str(df['image'])\n",
    "    if url.startswith('http'):\n",
    "        try:\n",
    "            resp = requests.get(url).content\n",
    "        except:\n",
    "            df['fname'] = 'error'\n",
    "            return df\n",
    "\n",
    "        fpath = f\"data/IMAGES/RISD/{df['id']}.jpg\"\n",
    "        with open(fpath, 'wb') as fp:\n",
    "            fp.write(resp)\n",
    "\n",
    "        img = Image.open(fpath)\n",
    "        img.thumbnail((500, 500))\n",
    "        img.save(fpath)\n",
    "        df['fname'] = fpath\n",
    "    else:\n",
    "        df['fname'] = None\n",
    "    \n",
    "    pause = np.random.randint(1, 60)\n",
    "    print(f'pausing for {pause} secs ...')\n",
    "    time.sleep(pause) # buffer\n",
    "    \n",
    "    return df"
   ]
  },
  {
   "cell_type": "code",
   "execution_count": null,
   "metadata": {},
   "outputs": [],
   "source": [
    "for i in range(len(image_id_set)):\n",
    "    image_id_set.iloc[i] = download_img(image_id_set.iloc[i])"
   ]
  },
  {
   "cell_type": "markdown",
   "metadata": {},
   "source": [
    "### Exporting"
   ]
  },
  {
   "cell_type": "code",
   "execution_count": null,
   "metadata": {},
   "outputs": [],
   "source": [
    "full_df = df.drop_duplicates(subset = 'id')\n",
    "filename = 'pickles/raw_data_RISD.pkl'\n",
    "full_df.to_pickle(filename)"
   ]
  }
 ],
 "metadata": {
  "kernelspec": {
   "display_name": "Python 3",
   "language": "python",
   "name": "python3"
  },
  "language_info": {
   "codemirror_mode": {
    "name": "ipython",
    "version": 3
   },
   "file_extension": ".py",
   "mimetype": "text/x-python",
   "name": "python",
   "nbconvert_exporter": "python",
   "pygments_lexer": "ipython3",
   "version": "3.8.5"
  }
 },
 "nbformat": 4,
 "nbformat_minor": 2
}
