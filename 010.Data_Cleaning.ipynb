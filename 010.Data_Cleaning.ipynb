{
 "cells": [
  {
   "cell_type": "markdown",
   "metadata": {},
   "source": [
    "# Data Merge & Cleaning\n",
    "In this notebook, I will merge all data and check what's missing. \n",
    "I'll also use this section to figure out what kind of preprocessing will be necessary and how to extract text information."
   ]
  },
  {
   "cell_type": "code",
   "execution_count": 85,
   "metadata": {},
   "outputs": [],
   "source": [
    "import pandas as pd\n",
    "import numpy as np\n",
    "\n",
    "import pickle"
   ]
  },
  {
   "cell_type": "code",
   "execution_count": 86,
   "metadata": {},
   "outputs": [],
   "source": [
    "harvard1 = pd.read_pickle('PKL/raw_data_Harvard_1.pkl')"
   ]
  },
  {
   "cell_type": "code",
   "execution_count": 87,
   "metadata": {},
   "outputs": [],
   "source": [
    "harvard2 = pd.read_pickle('PKL/raw_data_Harvard_3.pkl')"
   ]
  },
  {
   "cell_type": "code",
   "execution_count": 88,
   "metadata": {},
   "outputs": [],
   "source": [
    "risd1 = pd.read_pickle('PKL/raw_data_RISD_1.pkl')"
   ]
  },
  {
   "cell_type": "code",
   "execution_count": 89,
   "metadata": {},
   "outputs": [],
   "source": [
    "risd2 = pd.read_pickle('PKL/raw_data_RISD_2.pkl')"
   ]
  },
  {
   "cell_type": "code",
   "execution_count": 90,
   "metadata": {},
   "outputs": [],
   "source": [
    "moma = pd.read_csv('DATA/MoMA_data.csv')"
   ]
  },
  {
   "cell_type": "markdown",
   "metadata": {},
   "source": [
    "## Harvard Museum\n",
    "---\n",
    "Let's look at the Harvard data first."
   ]
  },
  {
   "cell_type": "code",
   "execution_count": 91,
   "metadata": {},
   "outputs": [],
   "source": [
    "harvard = pd.concat([harvard1, harvard2], axis = 0)"
   ]
  },
  {
   "cell_type": "code",
   "execution_count": 102,
   "metadata": {},
   "outputs": [],
   "source": [
    "# remove duplicates\n",
    "harvard = harvard.drop_duplicates(subset = ['id'])"
   ]
  },
  {
   "cell_type": "markdown",
   "metadata": {},
   "source": [
    "### missing image\n",
    "Drop if it's missing image url."
   ]
  },
  {
   "cell_type": "code",
   "execution_count": 103,
   "metadata": {},
   "outputs": [],
   "source": [
    "harvard = harvard.dropna(subset = ['primaryimageurl'])"
   ]
  },
  {
   "cell_type": "markdown",
   "metadata": {},
   "source": [
    "### Feature Consolidation\n",
    "I'll consolidate scattered info into ...\n",
    "1. period\n",
    "2. culture\n",
    "3. medium\n",
    "4. title\n",
    "5. description\n",
    "6. palette\n",
    "7. date\n",
    "8. name of the artist"
   ]
  },
  {
   "cell_type": "code",
   "execution_count": 104,
   "metadata": {},
   "outputs": [],
   "source": [
    "# removing unnecessary columns\n",
    "cols = ['id', 'period', 'images', 'worktypes', 'accessionyear', 'style', 'commentary', \n",
    "        'technique', 'description', 'medium', 'title', 'colors', 'provenance', 'dated', \n",
    "        'dateend', 'people', 'century', 'labeltext', 'datebegin', 'culture']"
   ]
  },
  {
   "cell_type": "code",
   "execution_count": 105,
   "metadata": {},
   "outputs": [],
   "source": [
    "harvard = harvard[cols]"
   ]
  },
  {
   "cell_type": "markdown",
   "metadata": {},
   "source": [
    "### Unnesting Subcategories\n",
    "There are sub-categories, which I'll unnest first."
   ]
  },
  {
   "cell_type": "markdown",
   "metadata": {},
   "source": [
    "Images, worktypes, colors, people are dictionary nested in the list. We'll need to extract information from them."
   ]
  },
  {
   "cell_type": "code",
   "execution_count": 106,
   "metadata": {},
   "outputs": [],
   "source": [
    "def extract_info(x, name):\n",
    "    ''' \n",
    "    INPUT: a list of dictionary, key name\n",
    "    OUTPUT: key value, consolidated as one string if many\n",
    "    '''\n",
    "    if isinstance(x, list):\n",
    "        if len(x) == 1:\n",
    "            return x[0][name]\n",
    "        else:\n",
    "            inst = []\n",
    "            for i in range(len(x)):\n",
    "                val = x[i][name]\n",
    "                if val not in inst and val != None:\n",
    "                    inst.append(val)\n",
    "            if len(inst) > 1:\n",
    "                return ', '.join(inst)\n",
    "            elif len(inst) == 1:\n",
    "                return inst[0]\n",
    "            else:\n",
    "                return None\n",
    "    else:\n",
    "        return None"
   ]
  },
  {
   "cell_type": "code",
   "execution_count": 107,
   "metadata": {},
   "outputs": [],
   "source": [
    "# for image info\n",
    "imageinfo = ['description', 'alttext', 'publiccaption']\n",
    "for item in imageinfo: \n",
    "    harvard[f'img_{item}'] = harvard['images'].apply(lambda x: extract_info(x, item))"
   ]
  },
  {
   "cell_type": "code",
   "execution_count": 108,
   "metadata": {},
   "outputs": [],
   "source": [
    "# worktype\n",
    "harvard['worktype'] = harvard['worktypes'].apply(lambda x: extract_info(x, 'worktype'))"
   ]
  },
  {
   "cell_type": "code",
   "execution_count": 109,
   "metadata": {},
   "outputs": [],
   "source": [
    "# color\n",
    "harvard['color'] = harvard['colors'].apply(lambda x: extract_info(x, 'hue'))"
   ]
  },
  {
   "cell_type": "code",
   "execution_count": 110,
   "metadata": {},
   "outputs": [],
   "source": [
    "# for artist, do the same but only take the artist roles\n",
    "def extract_info_artist(x, name):\n",
    "    if isinstance(x, list):\n",
    "        if len(x) == 1:\n",
    "            return x[0][name]\n",
    "        else:\n",
    "            inst = []\n",
    "            for i in range(len(x)):\n",
    "                if x[i]['role'] == 'Artist':\n",
    "                    val = x[i][name]\n",
    "                    if val not in inst and val != None:\n",
    "                        inst.append(val)\n",
    "            if len(inst) > 1:\n",
    "                return ', '.join(inst)\n",
    "            elif len(inst) == 1:\n",
    "                return inst[0]\n",
    "            else:\n",
    "                return None\n",
    "    else:\n",
    "        return None"
   ]
  },
  {
   "cell_type": "code",
   "execution_count": 111,
   "metadata": {},
   "outputs": [],
   "source": [
    "harvard['artist'] = harvard['people'].apply(lambda x: extract_info(x, 'displayname'))"
   ]
  },
  {
   "cell_type": "code",
   "execution_count": 112,
   "metadata": {},
   "outputs": [],
   "source": [
    "harvard = harvard.drop(['images', 'worktypes', 'colors', 'people'], axis = 1)"
   ]
  },
  {
   "cell_type": "markdown",
   "metadata": {},
   "source": [
    "### Combining columns\n",
    "I'll combine columns in this manner.\n",
    "1. period: if empty century if empty dated\n",
    "2. description: combine everything: 'style', 'commentary', 'description', 'labeltext', 'img_description', 'img_alttext', 'img_publiccaption'"
   ]
  },
  {
   "cell_type": "code",
   "execution_count": 113,
   "metadata": {},
   "outputs": [],
   "source": [
    "harvard['century'] = np.where(harvard['century'].isnull(), harvard['dated'], harvard['century'])\n",
    "harvard['period'] = np.where(harvard['period'].isnull(), harvard['century'], harvard['period'])"
   ]
  },
  {
   "cell_type": "code",
   "execution_count": 114,
   "metadata": {},
   "outputs": [],
   "source": [
    "desc_list = ['style', 'commentary', 'description', 'labeltext', 'img_description', 'img_alttext', 'img_publiccaption']\n",
    "for c in desc_list:\n",
    "    harvard[c] = harvard[c].fillna('')"
   ]
  },
  {
   "cell_type": "code",
   "execution_count": 115,
   "metadata": {},
   "outputs": [],
   "source": [
    "harvard['all_description'] = harvard[['style', 'commentary', 'description', 'labeltext', \n",
    "         'img_description', 'img_alttext', 'img_publiccaption']].agg(' '.join, axis=1)"
   ]
  },
  {
   "cell_type": "code",
   "execution_count": 116,
   "metadata": {},
   "outputs": [],
   "source": [
    "harvard = harvard[['id', 'title', 'worktype', 'period', 'all_description', 'artist', 'color']]"
   ]
  },
  {
   "cell_type": "code",
   "execution_count": 117,
   "metadata": {},
   "outputs": [
    {
     "data": {
      "text/html": [
       "<div>\n",
       "<style scoped>\n",
       "    .dataframe tbody tr th:only-of-type {\n",
       "        vertical-align: middle;\n",
       "    }\n",
       "\n",
       "    .dataframe tbody tr th {\n",
       "        vertical-align: top;\n",
       "    }\n",
       "\n",
       "    .dataframe thead th {\n",
       "        text-align: right;\n",
       "    }\n",
       "</style>\n",
       "<table border=\"1\" class=\"dataframe\">\n",
       "  <thead>\n",
       "    <tr style=\"text-align: right;\">\n",
       "      <th></th>\n",
       "      <th>id</th>\n",
       "      <th>title</th>\n",
       "      <th>worktype</th>\n",
       "      <th>period</th>\n",
       "      <th>all_description</th>\n",
       "      <th>artist</th>\n",
       "      <th>color</th>\n",
       "    </tr>\n",
       "  </thead>\n",
       "  <tbody>\n",
       "    <tr>\n",
       "      <th>0</th>\n",
       "      <td>47769</td>\n",
       "      <td>Page from an album of Rice and Silk Culture</td>\n",
       "      <td>album leaf, painting</td>\n",
       "      <td>Qing dynasty, 1644-1911</td>\n",
       "      <td></td>\n",
       "      <td>Traditionally attributed to Qiu Ying</td>\n",
       "      <td>Brown, Yellow</td>\n",
       "    </tr>\n",
       "    <tr>\n",
       "      <th>1</th>\n",
       "      <td>47969</td>\n",
       "      <td>Page from an album of Rice and Silk Culture</td>\n",
       "      <td>painting, album leaf</td>\n",
       "      <td>Qing dynasty, 1644-1911</td>\n",
       "      <td></td>\n",
       "      <td>Traditionally attributed to Qiu Ying</td>\n",
       "      <td>Brown, Yellow, Green</td>\n",
       "    </tr>\n",
       "  </tbody>\n",
       "</table>\n",
       "</div>"
      ],
      "text/plain": [
       "      id                                        title              worktype  \\\n",
       "0  47769  Page from an album of Rice and Silk Culture  album leaf, painting   \n",
       "1  47969  Page from an album of Rice and Silk Culture  painting, album leaf   \n",
       "\n",
       "                    period all_description  \\\n",
       "0  Qing dynasty, 1644-1911                   \n",
       "1  Qing dynasty, 1644-1911                   \n",
       "\n",
       "                                 artist                 color  \n",
       "0  Traditionally attributed to Qiu Ying         Brown, Yellow  \n",
       "1  Traditionally attributed to Qiu Ying  Brown, Yellow, Green  "
      ]
     },
     "execution_count": 117,
     "metadata": {},
     "output_type": "execute_result"
    }
   ],
   "source": [
    "harvard.head(2)"
   ]
  },
  {
   "cell_type": "code",
   "execution_count": 118,
   "metadata": {},
   "outputs": [],
   "source": [
    "harvard['source'] = 'harvard'"
   ]
  },
  {
   "cell_type": "markdown",
   "metadata": {},
   "source": [
    "## MOMA\n",
    "---\n",
    "Now similar steps for MOMA data"
   ]
  },
  {
   "cell_type": "markdown",
   "metadata": {},
   "source": [
    "### Missing image\n",
    "drop missing images"
   ]
  },
  {
   "cell_type": "code",
   "execution_count": 119,
   "metadata": {},
   "outputs": [],
   "source": [
    "moma = moma.dropna(subset = ['ThumbnailURL'])\n",
    "moma = moma[moma.Classification == 'Painting']"
   ]
  },
  {
   "cell_type": "code",
   "execution_count": 120,
   "metadata": {},
   "outputs": [],
   "source": [
    "moma['source'] = 'moma'"
   ]
  },
  {
   "cell_type": "code",
   "execution_count": 121,
   "metadata": {
    "scrolled": false
   },
   "outputs": [],
   "source": [
    "col_list = ['ObjectID', 'Title', 'Artist', 'Nationality', 'Date', 'Medium', 'source']\n",
    "moma = moma[col_list]"
   ]
  },
  {
   "cell_type": "markdown",
   "metadata": {},
   "source": [
    "## RISD\n",
    "---"
   ]
  },
  {
   "cell_type": "code",
   "execution_count": 163,
   "metadata": {},
   "outputs": [],
   "source": [
    "risd = pd.concat([risd1, risd2], axis = 0)"
   ]
  },
  {
   "cell_type": "markdown",
   "metadata": {},
   "source": [
    "### Missing images\n",
    "Remove if the image is missing."
   ]
  },
  {
   "cell_type": "code",
   "execution_count": 164,
   "metadata": {},
   "outputs": [],
   "source": [
    "risd = risd[[len(x) > 0 for x in risd['images']]]"
   ]
  },
  {
   "cell_type": "markdown",
   "metadata": {},
   "source": [
    "### Location\n",
    "Get the primary maker's location."
   ]
  },
  {
   "cell_type": "code",
   "execution_count": 165,
   "metadata": {},
   "outputs": [],
   "source": [
    "def get_nationality(x):\n",
    "    '''\n",
    "    given a dictionaries nested in a list, \n",
    "    return the first person's nationality\n",
    "    '''\n",
    "    if x:\n",
    "        ind = list(x)[0]['nationality']\n",
    "        if ind: \n",
    "            return ind[0]\n",
    "        else: \n",
    "            return None\n"
   ]
  },
  {
   "cell_type": "code",
   "execution_count": 166,
   "metadata": {},
   "outputs": [],
   "source": [
    "risd['nationality'] = risd.makers.apply(lambda x: get_nationality(x))"
   ]
  },
  {
   "cell_type": "markdown",
   "metadata": {},
   "source": [
    "### Consolidating info\n",
    "1. only paintings or other art-like work on paper \n",
    "2. culture: culture if empty, place, if empty nationality"
   ]
  },
  {
   "cell_type": "code",
   "execution_count": 167,
   "metadata": {},
   "outputs": [],
   "source": [
    "# subsetting column\n",
    "col_list = ['id', 'culture', 'dating', 'description', 'mediumTechnique', 'place', 'primaryMaker',  \n",
    "            'title', 'type', 'nationality']\n",
    "risd = risd[col_list]"
   ]
  },
  {
   "cell_type": "code",
   "execution_count": 168,
   "metadata": {},
   "outputs": [],
   "source": [
    "# filter to only paintings\n",
    "art_list = ['Paintings']\n",
    "risd = risd[[any(item in x[0] for item in art_list) for x in risd['type']]]"
   ]
  },
  {
   "cell_type": "markdown",
   "metadata": {},
   "source": [
    "#### Missing values\n",
    "RISD datasets don't have missing values. They just have empty values. Let's change them."
   ]
  },
  {
   "cell_type": "code",
   "execution_count": 178,
   "metadata": {},
   "outputs": [],
   "source": [
    "risd = risd.replace('', np.nan)"
   ]
  },
  {
   "cell_type": "markdown",
   "metadata": {},
   "source": [
    "#### Culture"
   ]
  },
  {
   "cell_type": "code",
   "execution_count": 180,
   "metadata": {},
   "outputs": [],
   "source": [
    "# culture\n",
    "risd['place'] = np.where(risd['place'].isnull(), risd['nationality'], risd['place'])\n",
    "risd['culture'] = np.where(risd['culture'].isnull(), risd['place'], risd['culture'])\n",
    "risd = risd.drop(['place', 'nationality'], axis = 1)"
   ]
  },
  {
   "cell_type": "code",
   "execution_count": 182,
   "metadata": {},
   "outputs": [],
   "source": [
    "risd = risd.drop(['type'], axis = 1)"
   ]
  },
  {
   "cell_type": "code",
   "execution_count": 183,
   "metadata": {},
   "outputs": [],
   "source": [
    "risd['source'] = 'risd'"
   ]
  },
  {
   "cell_type": "code",
   "execution_count": null,
   "metadata": {},
   "outputs": [],
   "source": []
  }
 ],
 "metadata": {
  "kernelspec": {
   "display_name": "Python 3",
   "language": "python",
   "name": "python3"
  },
  "language_info": {
   "codemirror_mode": {
    "name": "ipython",
    "version": 3
   },
   "file_extension": ".py",
   "mimetype": "text/x-python",
   "name": "python",
   "nbconvert_exporter": "python",
   "pygments_lexer": "ipython3",
   "version": "3.8.5"
  }
 },
 "nbformat": 4,
 "nbformat_minor": 4
}
