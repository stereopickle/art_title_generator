{
 "cells": [
  {
   "cell_type": "markdown",
   "metadata": {},
   "source": [
    "# Model - Object Captioning\n",
    "\n",
    "Here I will run a model to generate captions for objects. This will be done in a few step.  \n",
    "(the main structure of steps and dataset from https://machinelearningmastery.com/develop-a-deep-learning-caption-generation-model-in-python/)\n",
    "\n",
    "1. Extract feature from pretrained network for object recognition.  \n",
    "2. Using the flicker dataset with labels, train CNN/RNN model \n",
    "3. Art Captioning: for this I'll try couple different method\n",
    "    - test artworks on a model trained for object captioning\n",
    "    - include art with description to the CNN/RNN \n",
    "    - include artworks to the CNN\n",
    "    - include less concrete object images (e.g. cloud) to the CNN\n",
    "    - train more abstract labeling in RNN\n",
    "    \n",
    "Additionally, some evaluation steps to take a look.\n",
    "1. Check what type of objects are classified better or worse\n",
    "2. Try semantic projection (abstract - concrete) to score the level of abstraction of each word and run statistical testing on how the model performance differs per the level of abstraction\n",
    "3. "
   ]
  },
  {
   "cell_type": "code",
   "execution_count": 34,
   "metadata": {},
   "outputs": [],
   "source": [
    "from tensorflow.keras.applications import NASNetLarge \n",
    "from tensorflow.keras.applications.nasnet import preprocess_input\n",
    "from tensorflow.keras.preprocessing.image import load_img, img_to_array\n",
    "from tensorflow.keras.models import Model\n",
    "\n",
    "import pickle\n",
    "\n",
    "import os\n",
    "\n",
    "import numpy as np"
   ]
  },
  {
   "cell_type": "code",
   "execution_count": 9,
   "metadata": {},
   "outputs": [],
   "source": [
    "flicker_img_dir = 'IMAGES/Flicker/Flicker8k_Dataset'\n",
    "flicker_text_dir = 'IMAGES/Flicker/labels'"
   ]
  },
  {
   "cell_type": "markdown",
   "metadata": {},
   "source": [
    "## Feature Extraction\n",
    "First, extracting features from Flicker dataset using NASNet network."
   ]
  },
  {
   "cell_type": "code",
   "execution_count": 56,
   "metadata": {},
   "outputs": [],
   "source": [
    "def feature_extractor(dir_, network):\n",
    "    ''' \n",
    "    iterate through files in dir_ \n",
    "    and get features running on network\n",
    "    return a dictionary with image id as a key\n",
    "    '''\n",
    "    model = network(include_top = False)\n",
    "    fnames = [x for x in os.listdir(dir_) if x.endswith('.jpg')]\n",
    "    result = {}\n",
    "    i = 1\n",
    "    n = len(fnames)\n",
    "    \n",
    "    for fn in fnames:\n",
    "        img = load_img(f'{dir_}/{fn}', target_size = (model.input.shape[1], model.input.shape[2]))\n",
    "        img = np.expand_dims(img, 0)\n",
    "        img = preprocess_input(img)\n",
    "        feature = model.predict(img)\n",
    "        ind = fn[:-4]\n",
    "        result[ind] = feature\n",
    "        print(f'{i}/{n} feature extraction completed')\n",
    "        i += 1\n",
    "    return result"
   ]
  },
  {
   "cell_type": "code",
   "execution_count": null,
   "metadata": {
    "scrolled": true
   },
   "outputs": [],
   "source": [
    "features = feature_extractor(flicker_img_dir, NASNetLarge)"
   ]
  },
  {
   "cell_type": "code",
   "execution_count": null,
   "metadata": {},
   "outputs": [],
   "source": []
  }
 ],
 "metadata": {
  "kernelspec": {
   "display_name": "Python 3",
   "language": "python",
   "name": "python3"
  },
  "language_info": {
   "codemirror_mode": {
    "name": "ipython",
    "version": 3
   },
   "file_extension": ".py",
   "mimetype": "text/x-python",
   "name": "python",
   "nbconvert_exporter": "python",
   "pygments_lexer": "ipython3",
   "version": "3.8.5"
  }
 },
 "nbformat": 4,
 "nbformat_minor": 4
}
