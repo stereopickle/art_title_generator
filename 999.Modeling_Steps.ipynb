{
 "cells": [
  {
   "cell_type": "markdown",
   "metadata": {},
   "source": [
    "# Model - Image Captioning\n",
    "\n",
    "This notebook outlines a step to develop image captioning model.\n",
    "This will be done in a few step.  \n",
    "\n",
    "1. Extract features of images from NASNet   \n",
    "2. Train LSTM model using image + caption data \n",
    "3. Test on new images features"
   ]
  },
  {
   "cell_type": "code",
   "execution_count": 1,
   "metadata": {},
   "outputs": [],
   "source": [
    "import numpy as np\n",
    "\n",
    "import matplotlib.pyplot as plt\n",
    "import matplotlib.image as mpimg\n",
    "\n",
    "plt.style.use('fivethirtyeight')\n",
    "%matplotlib inline\n",
    "\n",
    "from tensorflow.keras.applications import NASNetLarge \n",
    "from tensorflow.keras.applications.nasnet import preprocess_input\n",
    "from tensorflow.keras.preprocessing.image import load_img, img_to_array\n",
    "from tensorflow.keras.preprocessing.text import Tokenizer\n",
    "from tensorflow.keras.preprocessing.sequence import pad_sequences\n",
    "from tensorflow.keras.utils import to_categorical, plot_model\n",
    "from tensorflow.keras.models import Model, model_from_json, load_model\n",
    "from tensorflow.keras.layers import Input, Dropout, Dense, Embedding, LSTM, add\n",
    "from tensorflow.keras.callbacks import EarlyStopping, ModelCheckpoint\n",
    "from sklearn.model_selection import train_test_split\n",
    "\n",
    "import pickle\n",
    "import os\n",
    "from timeit import default_timer as timer\n",
    "\n",
    "import string\n",
    "import re"
   ]
  },
  {
   "cell_type": "code",
   "execution_count": 2,
   "metadata": {},
   "outputs": [],
   "source": [
    "import gc\n",
    "\n",
    "def clean_up(vars_):\n",
    "    # remove unnecessary variables to avoid clogging\n",
    "    for var in vars_:\n",
    "        del var \n",
    "    print(gc.collect())"
   ]
  },
  {
   "cell_type": "code",
   "execution_count": 3,
   "metadata": {},
   "outputs": [],
   "source": [
    "flicker_img_dir = 'IMAGES/Flicker/Flicker8k_Dataset'\n",
    "flicker_text_dir = 'IMAGES/Flicker/labels'"
   ]
  },
  {
   "cell_type": "markdown",
   "metadata": {},
   "source": [
    "## Feature Extraction\n",
    "---\n",
    "\n",
    "First, we will extract features of all available images using NASNet."
   ]
  },
  {
   "cell_type": "code",
   "execution_count": 4,
   "metadata": {},
   "outputs": [],
   "source": [
    "def feature_extractor(dir_, network):\n",
    "    ''' \n",
    "    iterate through files in dir_ \n",
    "    and get features running on network\n",
    "    return a dictionary with image id as a key\n",
    "    '''\n",
    "    model = network()\n",
    "    model = Model(inputs = model.inputs, outputs = model.layers[-2].output)\n",
    "    fnames = [x for x in os.listdir(dir_) if x.endswith('.jpg')]\n",
    "    result = {}\n",
    "    i = 1\n",
    "    n = len(fnames)\n",
    "    \n",
    "    for fn in fnames:\n",
    "        img = load_img(f'{dir_}/{fn}', target_size = (331, 331))\n",
    "        img = np.expand_dims(img, 0)\n",
    "        img = preprocess_input(img)\n",
    "        feature = model.predict(img)\n",
    "        ind = fn.split('.')[0]\n",
    "        result[ind] = feature\n",
    "        print(f'{i}/{n} feature extraction completed')\n",
    "        i += 1\n",
    "    return result"
   ]
  },
  {
   "cell_type": "code",
   "execution_count": null,
   "metadata": {
    "scrolled": true
   },
   "outputs": [],
   "source": [
    "# run\n",
    "features = feature_extractor(flicker_img_dir, NASNetLarge)"
   ]
  },
  {
   "cell_type": "code",
   "execution_count": 6,
   "metadata": {},
   "outputs": [],
   "source": [
    "# Saving\n",
    "#with open('PKL/features.pkl', 'wb') as fp:\n",
    "#    pickle.dump(features, fp, pickle.HIGHEST_PROTOCOL)"
   ]
  },
  {
   "cell_type": "code",
   "execution_count": 5,
   "metadata": {},
   "outputs": [],
   "source": [
    "# loading\n",
    "with open('PKL/features.pkl', 'rb') as fp:\n",
    "    features = pickle.load(fp)"
   ]
  },
  {
   "cell_type": "markdown",
   "metadata": {},
   "source": [
    "## Dictionary of Descriptions\n",
    "---\n",
    "Next, we will create a reference dictionary with the image_id and associated descriptions after descriptions are being preprocessed for tokenization."
   ]
  },
  {
   "cell_type": "code",
   "execution_count": 13,
   "metadata": {},
   "outputs": [],
   "source": [
    "# read the description file\n",
    "with open(f'{flicker_text_dir}/Flickr8k.token.txt', 'r') as fn:\n",
    "    text = fn.readlines()"
   ]
  },
  {
   "cell_type": "code",
   "execution_count": 14,
   "metadata": {},
   "outputs": [],
   "source": [
    "# extract only image id and description\n",
    "pattern = '([0-9a-z_]*)\\.jpg.*\\\\t(.*)\\\\n'\n",
    "p = re.compile(pattern)\n",
    "descriptions_pairs = [p.findall(x)[0] for x in text]"
   ]
  },
  {
   "cell_type": "code",
   "execution_count": 5,
   "metadata": {},
   "outputs": [],
   "source": [
    "def description_preprocessing(list_of_tuples, n = None):\n",
    "    '''\n",
    "    given description pairs, return a dictionary of descriptions\n",
    "    if n is specified, only select the n or less descriptions\n",
    "    per image\n",
    "    '''\n",
    "    descriptions = {}\n",
    "\n",
    "    table_ = str.maketrans('', '', string.punctuation+string.digits)\n",
    "\n",
    "    for ind, text in list_of_tuples:\n",
    "        text = text.lower()\n",
    "        text = str.translate(text, table_)\n",
    "        text = [x for x in text.split() if len(x) > 1] # remove trailing alphabet\n",
    "        text = 'seqini ' + ' '.join(text) + ' seqfin' # add initial and ending tokens\n",
    "        if ind in descriptions:\n",
    "            descriptions[ind].append(text)\n",
    "        else:\n",
    "            descriptions[ind] = [text]\n",
    "    if n:\n",
    "        # if n is assigned cap the number of description for each image to be n\n",
    "        for k, v in descriptions.items():\n",
    "            if len(v) > n:\n",
    "                descriptions[k] = list(np.random.choice(v, n, replace = False))\n",
    "    return descriptions"
   ]
  },
  {
   "cell_type": "code",
   "execution_count": 17,
   "metadata": {},
   "outputs": [],
   "source": [
    "descriptions = description_preprocessing(descriptions_pairs)"
   ]
  },
  {
   "cell_type": "code",
   "execution_count": null,
   "metadata": {},
   "outputs": [],
   "source": [
    "# saving\n",
    "#with open('PKL/descriptions.pkl', 'wb') as fp:\n",
    "#    pickle.dump(descriptions, fp)"
   ]
  },
  {
   "cell_type": "code",
   "execution_count": 7,
   "metadata": {},
   "outputs": [],
   "source": [
    "# loading\n",
    "#with open('PKL/descriptions.pkl', 'rb') as fp:\n",
    "#    descriptions = pickle.load(fp)"
   ]
  },
  {
   "cell_type": "markdown",
   "metadata": {},
   "source": [
    "## Cross-Validation\n",
    "---\n",
    "Now I'll split the list of images into train/val/test sets (70:15:15)"
   ]
  },
  {
   "cell_type": "code",
   "execution_count": 18,
   "metadata": {},
   "outputs": [],
   "source": [
    "train_list, test_list = train_test_split(list(descriptions.keys()), test_size = 0.3, random_state = 22)\n",
    "val_list, test_list = train_test_split(test_list, test_size = 0.5, random_state = 22)"
   ]
  },
  {
   "cell_type": "markdown",
   "metadata": {},
   "source": [
    "## Generating Inputs\n",
    "---\n",
    "Now we need to create input and output series for LSTM network.  \n",
    "We need two separate inputs: image features, description as sequences. \n",
    "The output is the next word in the sequence.  "
   ]
  },
  {
   "cell_type": "code",
   "execution_count": 6,
   "metadata": {},
   "outputs": [],
   "source": [
    "def get_keys(dict_):\n",
    "    ''' \n",
    "    Helper to return a list of keys \n",
    "    given a dictionary\n",
    "    '''\n",
    "    return list(dict_.keys())\n",
    "\n",
    "def get_vals(dict_):\n",
    "    ''' \n",
    "    Helper to return a list of values \n",
    "    given a dictionary\n",
    "    '''\n",
    "    return list(dict_.values())\n",
    "    \n",
    "def get_features(features_dict, img_ind):\n",
    "    ''' \n",
    "    Helper to return feature values \n",
    "    given a feature dictionary and image ids\n",
    "    '''\n",
    "    if isinstance(img_ind, list):\n",
    "        return [features_dict[x][0] for x in img_ind]\n",
    "    elif isinstance(img_ind, str):\n",
    "        return features_dict[img_ind][0]\n",
    "    else:\n",
    "        print('img_ind must be a list or string type')\n",
    "        return None"
   ]
  },
  {
   "cell_type": "markdown",
   "metadata": {},
   "source": [
    "Now I will create a sequence generator. This class object will keep information on feature dictionary, description dictionary, and tokenizer for select list, and generate train/test inputs and outputs."
   ]
  },
  {
   "cell_type": "code",
   "execution_count": 7,
   "metadata": {},
   "outputs": [],
   "source": [
    "class sequence_generator:\n",
    "    def __init__(self, dictionary, features):\n",
    "        ''' INPUT: a dictionary of descriptions and features '''\n",
    "        self.dictionary = dictionary\n",
    "        self.features = features\n",
    "        self.img_index = get_keys(self.dictionary)\n",
    "        self.texts = get_vals(self.dictionary)\n",
    "\n",
    "    def update_selection(self, list_):\n",
    "        ''' \n",
    "        INPUT: select list of image indices\n",
    "        Create selector, and subsets (select_dictionary, select_img_inds, select_texts)\n",
    "        '''\n",
    "        self.selector = list_\n",
    "        self.select_dictionary = {k: v for k, v in self.dictionary.items() if (k in list_) & (k in self.features)}\n",
    "        self.select_img_inds = get_keys(self.select_dictionary)\n",
    "        self.select_texts = get_vals(self.select_dictionary)\n",
    "    \n",
    "    def sequence_process(self, dict_):\n",
    "        ''' Helper to process breakdown on all select dictionary '''\n",
    "        X1, X2, Y = [], [], []\n",
    "\n",
    "        def breakdown_sequence(list_):\n",
    "            ''' Helper to return a list of breakdown sequences and the output '''\n",
    "            x, y = [], []\n",
    "            for i in range(1, len(list_)):\n",
    "                x.append(list_[:i])\n",
    "                y.append(list_[i])\n",
    "            return x, y\n",
    "        \n",
    "        for ind, texts in dict_.items():\n",
    "            sequences = self.tokenizer.texts_to_sequences(texts)\n",
    "            \n",
    "            for seq in sequences:\n",
    "                x, y = breakdown_sequence(seq)\n",
    "\n",
    "                X1.extend(np.repeat(ind, len(y)))\n",
    "                X2.extend(x)\n",
    "                Y.extend(y)\n",
    "\n",
    "        return X1, X2, Y\n",
    "\n",
    "    def train_generator(self, train_list):\n",
    "        '''\n",
    "        INPUT a list of training ids, \n",
    "        RETURN image inputs, text inputs, and outputs\n",
    "        ASSIGN max_length and vocab size\n",
    "        '''\n",
    "        self.update_selection(train_list)\n",
    "\n",
    "        self.tokenizer = Tokenizer()\n",
    "        self.tokenizer.fit_on_texts(np.concatenate(self.select_texts))\n",
    "        self.num_vocab = len(self.tokenizer.word_index)+1\n",
    "        \n",
    "        dict_ = self.select_dictionary\n",
    "        \n",
    "\n",
    "        X1, X2, Y = self.sequence_process(dict_)\n",
    "        \n",
    "        X2 = pad_sequences(X2)\n",
    "        self.max_length = X2.shape[1]\n",
    "    \n",
    "        Y = to_categorical(Y, self.num_vocab)\n",
    "        X1 = get_features(self.features, X1)\n",
    "        return np.array(X1), np.array(X2), np.array(Y)\n",
    "\n",
    "    def validation_generator(self, val_list):\n",
    "        '''\n",
    "        INPUT a list of validation ids, \n",
    "        RETURN image inputs, text inputs and outputs\n",
    "        '''\n",
    "        self.update_selection(val_list)\n",
    "        \n",
    "        dict_ = self.select_dictionary\n",
    "\n",
    "        X1, X2, Y = self.sequence_process(dict_)\n",
    "        X2 = pad_sequences(X2, maxlen = self.max_length)\n",
    "        Y = to_categorical(Y, num_classes = self.num_vocab)\n",
    "        X1 = get_features(self.features, X1)\n",
    "\n",
    "        return np.array(X1), np.array(X2), np.array(Y)\n",
    "    \n",
    "    def get_num_vocab(self):\n",
    "        ''' \n",
    "        return the number of unique vocabularies \n",
    "        in the training set\n",
    "        '''\n",
    "        return self.num_vocab\n",
    "    def get_max_length(self):\n",
    "        '''\n",
    "        return the maximum length of vocabularies \n",
    "        in the training set\n",
    "        '''\n",
    "        return self.max_length\n",
    "    def get_tokenizer(self):\n",
    "        '''\n",
    "        return the Keras Tokenizer object fitted on \n",
    "        training set\n",
    "        '''\n",
    "        return self.tokenizer"
   ]
  },
  {
   "cell_type": "markdown",
   "metadata": {},
   "source": [
    "## Network Architecture\n",
    "---\n",
    "Now we will develop LSTM architecture."
   ]
  },
  {
   "cell_type": "code",
   "execution_count": 29,
   "metadata": {},
   "outputs": [],
   "source": [
    "# initialize processor with descriptions and features references\n",
    "processor = sequence_generator(descriptions, features)"
   ]
  },
  {
   "cell_type": "code",
   "execution_count": 30,
   "metadata": {},
   "outputs": [],
   "source": [
    "# get inputs and output\n",
    "train_X1, train_X2, train_Y = processor.train_generator(train_list)\n",
    "val_X1, val_X2, val_Y = processor.validation_generator(val_list)"
   ]
  },
  {
   "cell_type": "code",
   "execution_count": 31,
   "metadata": {},
   "outputs": [],
   "source": [
    "# get max length and number of vocabularies\n",
    "max_length = processor.get_max_length()\n",
    "num_vocab = processor.get_num_vocab()"
   ]
  },
  {
   "cell_type": "code",
   "execution_count": null,
   "metadata": {
    "scrolled": true
   },
   "outputs": [],
   "source": [
    "#first path (Features)\n",
    "in1 = Input(shape = (4032,))\n",
    "img_layer1 = Dropout(0.5)(in1)\n",
    "img_layer2 = Dense(64, activation = 'relu')(img_layer1)\n",
    "\n",
    "# second path (LSTM)\n",
    "in2 = Input(shape=(max_length,))\n",
    "text_layer1 = Embedding(num_vocab, 64, mask_zero = True)(in2)\n",
    "text_layer2 = Dropout(0.5)(text_layer1)\n",
    "text_layer3 = LSTM(64)(text_layer2)\n",
    "\n",
    "# output\n",
    "output_layer1 = add([img_layer2, text_layer3])\n",
    "output_layer2 = Dense(64, activation = 'relu')(output_layer1)\n",
    "output = Dense(num_vocab, activation = 'softmax')(output_layer2)\n",
    "\n",
    "# compile model\n",
    "model = Model(inputs = [in1, in2], outputs = output)\n",
    "model.compile(loss = 'categorical_crossentropy', \n",
    "             optimizer = 'adam')\n",
    "\n",
    "# Overfitting control\n",
    "cp = EarlyStopping(patience = 3, restore_best_weights= True)\n",
    "\n",
    "# training\n",
    "start = timer()\n",
    "\n",
    "history = model.fit([train_X1, train_X2], train_Y, \n",
    "                    epochs=10, \n",
    "                    validation_data = ([val_X1, val_X2], val_Y),\n",
    "                    workers = 7, \n",
    "                    callbacks = [cp], \n",
    "                    verbose = 1\n",
    "                   )\n",
    "end = timer()\n",
    "elapsed = end - start\n",
    "print('Total Time Elapsed: ', int(elapsed//60), ' minutes ', (round(elapsed%60)), ' seconds')"
   ]
  },
  {
   "cell_type": "code",
   "execution_count": null,
   "metadata": {},
   "outputs": [],
   "source": [
    "# reviewing structure\n",
    "plot_model(model, to_file='PNG/basemodel_arch.png')"
   ]
  },
  {
   "cell_type": "code",
   "execution_count": null,
   "metadata": {},
   "outputs": [],
   "source": [
    "# saving model\n",
    "# model.save('MODEL/base_model')"
   ]
  },
  {
   "cell_type": "code",
   "execution_count": null,
   "metadata": {},
   "outputs": [],
   "source": [
    "# loading model\n",
    "# model = load_model('MODEL/base_model')"
   ]
  },
  {
   "cell_type": "code",
   "execution_count": null,
   "metadata": {},
   "outputs": [],
   "source": [
    "def plot_performance(hist):\n",
    "    ''' function to plot training and validation loss '''\n",
    "    hist_ = hist.history\n",
    "    epochs = hist.epoch\n",
    "    \n",
    "    plt.figure()\n",
    "    plt.plot(epochs, hist_['loss'], label='Training loss')\n",
    "    plt.plot(epochs, hist_['val_loss'], label='Validation loss')\n",
    "    plt.title('Training and validation loss')\n",
    "    plt.legend()\n",
    "    \n",
    "    plt.show()"
   ]
  },
  {
   "cell_type": "code",
   "execution_count": null,
   "metadata": {},
   "outputs": [],
   "source": [
    "plot_performance(history)"
   ]
  },
  {
   "cell_type": "code",
   "execution_count": 1,
   "metadata": {},
   "outputs": [],
   "source": [
    "#!export PATH=/Library/TeX/texbin:$PATH"
   ]
  }
 ],
 "metadata": {
  "kernelspec": {
   "display_name": "Python 3",
   "language": "python",
   "name": "python3"
  },
  "language_info": {
   "codemirror_mode": {
    "name": "ipython",
    "version": 3
   },
   "file_extension": ".py",
   "mimetype": "text/x-python",
   "name": "python",
   "nbconvert_exporter": "python",
   "pygments_lexer": "ipython3",
   "version": "3.7.4"
  }
 },
 "nbformat": 4,
 "nbformat_minor": 4
}
